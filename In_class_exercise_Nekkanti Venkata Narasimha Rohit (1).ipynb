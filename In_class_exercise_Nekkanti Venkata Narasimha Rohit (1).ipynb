{
 "cells": [
  {
   "cell_type": "markdown",
   "metadata": {
    "colab_type": "text",
    "id": "view-in-github"
   },
   "source": [
    "<a href=\"https://colab.research.google.com/github/unt-iialab/INFO5731_Spring2020/blob/master/In_class_exercise/In_class_exercise_01.ipynb\" target=\"_parent\"><img src=\"https://colab.research.google.com/assets/colab-badge.svg\" alt=\"Open In Colab\"/></a>"
   ]
  },
  {
   "cell_type": "markdown",
   "metadata": {
    "colab_type": "text",
    "id": "DymRJbxDBCnf"
   },
   "source": [
    "# **The first In-class-exercise (09/01/2021, 40 points in total)**"
   ]
  },
  {
   "cell_type": "markdown",
   "metadata": {
    "colab_type": "text",
    "id": "03jb4GZsBkBS"
   },
   "source": [
    "(1) Write a Python program to calculate the length of a string. (4 points)"
   ]
  },
  {
   "cell_type": "code",
   "execution_count": 44,
   "metadata": {
    "colab": {},
    "colab_type": "code",
    "id": "YaGLbSHHB8Ej"
   },
   "outputs": [
    {
     "name": "stdout",
     "output_type": "stream",
     "text": [
      "48\n"
     ]
    }
   ],
   "source": [
    "# write your answer here\n",
    "s= \"I am currently pursuing my higher studies in UNT\"\n",
    "print(len(s))"
   ]
  },
  {
   "cell_type": "markdown",
   "metadata": {
    "colab_type": "text",
    "id": "jJDe71iLB616"
   },
   "source": [
    "(2) Write a Python program to count the number of characters in a string. (4 points)\n",
    "\n",
    "Sample String : 'google.com‘, \n",
    "\n",
    "Expected Result : {'o': 3, 'g': 2, '.': 1, 'e': 1, 'l': 1, 'm': 1, 'c': 1}"
   ]
  },
  {
   "cell_type": "code",
   "execution_count": 21,
   "metadata": {
    "colab": {},
    "colab_type": "code",
    "id": "MtKskTzbCLaU"
   },
   "outputs": [
    {
     "name": "stdout",
     "output_type": "stream",
     "text": [
      "perry\n",
      "{'p': 1, 'e': 1, 'r': 2, 'y': 1}\n"
     ]
    }
   ],
   "source": [
    "# write your answer here\n",
    "strn = input()\n",
    "d0 = dict()\n",
    "for x in strn:\n",
    "    if x in d0:\n",
    "        d0[x] = d0[x] + 1\n",
    "    else:\n",
    "            d0[x] = 1\n",
    "print(d0)"
   ]
  },
  {
   "cell_type": "markdown",
   "metadata": {
    "colab_type": "text",
    "id": "55W9AMdXCSpV"
   },
   "source": [
    "(3) Write a Python program to sum all the items in a list. (4 points)"
   ]
  },
  {
   "cell_type": "code",
   "execution_count": 1,
   "metadata": {
    "colab": {},
    "colab_type": "code",
    "id": "I57NXsauCec2"
   },
   "outputs": [
    {
     "name": "stdout",
     "output_type": "stream",
     "text": [
      "13\n"
     ]
    }
   ],
   "source": [
    "# write your answer here\n",
    "list1=[2, 5, 6]\n",
    "total=sum(list1)\n",
    "print(total)"
   ]
  },
  {
   "cell_type": "markdown",
   "metadata": {
    "colab_type": "text",
    "id": "4ulBZ6yhCi9F"
   },
   "source": [
    "(4) Write a Python program to get a string from a given string where all occurrences of its first char have been changed to '\\$', except the first char itself. (4 points)\n",
    "\n",
    "Sample String : 'restart‘, \n",
    "\n",
    "Expected Result : 'resta\\$t'"
   ]
  },
  {
   "cell_type": "code",
   "execution_count": 25,
   "metadata": {
    "colab": {},
    "colab_type": "code",
    "id": "Fj0XhwbBCw2o"
   },
   "outputs": [
    {
     "name": "stdout",
     "output_type": "stream",
     "text": [
      "helho\n",
      "hel$o\n"
     ]
    }
   ],
   "source": [
    "# write your answer here\n",
    "str1 = input()  \n",
    "char = str1[0]  \n",
    "length = len(stri)  \n",
    "str1 = str1.replace(char, '$')  \n",
    "str1 = char + str1[1:]  \n",
    "print(str1)"
   ]
  },
  {
   "cell_type": "markdown",
   "metadata": {
    "colab_type": "text",
    "id": "_bIP7s1MCzue"
   },
   "source": [
    "(5) Write a program with python which could accept two parameter a and b to calculate and output the result of S, where \n",
    "\n",
    "$\\ S=3.14*(1+a/b)^3$ (4 points)\n",
    "\n"
   ]
  },
  {
   "cell_type": "code",
   "execution_count": 29,
   "metadata": {
    "colab": {},
    "colab_type": "code",
    "id": "w79QilHXD3Mg"
   },
   "outputs": [
    {
     "name": "stdout",
     "output_type": "stream",
     "text": [
      "2\n",
      "6\n",
      "7.4429629629629614\n"
     ]
    }
   ],
   "source": [
    "# write your answer here\n",
    "a=float(input())\n",
    "b=float(input())\n",
    "s=3.14*(1+a/b)**3\n",
    "print(s)"
   ]
  },
  {
   "cell_type": "markdown",
   "metadata": {
    "colab_type": "text",
    "id": "xCa2bK9aD4Q3"
   },
   "source": [
    "(6) Write a Python program to concatenate following dictionaries to create a new one. (4 points)\n",
    "\n",
    "Sample Dictionary : dic1={1:10, 2:20}, dic2={3:30, 4:40}, dic3={5:50,6:60}, \n",
    "\n",
    "Expected Result : {1: 10, 2: 20, 3: 30, 4: 40, 5: 50, 6: 60}\n"
   ]
  },
  {
   "cell_type": "code",
   "execution_count": 32,
   "metadata": {
    "colab": {},
    "colab_type": "code",
    "id": "_z4aLqAbEET1"
   },
   "outputs": [
    {
     "name": "stdout",
     "output_type": "stream",
     "text": [
      "{1: 10, 2: 50, 4: 20, 5: 40, 3: 30}\n"
     ]
    }
   ],
   "source": [
    "# write your answer here\n",
    "dic1={1:10, 2:20}\n",
    "dic2={4:20, 5:40}\n",
    "dic3={3:30, 2:50}\n",
    "full={}\n",
    "for dic in [dic1,dic2,dic3]:\n",
    " full.update(dic)\n",
    "print(full)"
   ]
  },
  {
   "cell_type": "markdown",
   "metadata": {
    "colab_type": "text",
    "id": "0v48Vqa7FrQh"
   },
   "source": [
    "(7) Write a Python program to check whether an element exists within a tuple. (4 points)"
   ]
  },
  {
   "cell_type": "code",
   "execution_count": 23,
   "metadata": {
    "colab": {},
    "colab_type": "code",
    "id": "7WEmgq-DF2P1"
   },
   "outputs": [
    {
     "name": "stdout",
     "output_type": "stream",
     "text": [
      "True\n",
      "False\n"
     ]
    }
   ],
   "source": [
    "# write your answer here\n",
    "tuple=('w','r','k','f',1,'d',8)\n",
    "print('r' in tuple)\n",
    "print(2 in tuple)"
   ]
  },
  {
   "cell_type": "markdown",
   "metadata": {
    "colab_type": "text",
    "id": "vD5PYLMuGga_"
   },
   "source": [
    "(8) Write a Python program to find maximum and the minimum value in a set. (4 points)"
   ]
  },
  {
   "cell_type": "code",
   "execution_count": 38,
   "metadata": {
    "colab": {},
    "colab_type": "code",
    "id": "t0D5kdJUGjjw"
   },
   "outputs": [
    {
     "name": "stdout",
     "output_type": "stream",
     "text": [
      "[4, 2, 8]\n",
      "<class 'list'>\n",
      "\n",
      "maximum value in a set:\n",
      "8\n",
      "\n",
      "minimum value in a set:\n",
      "2\n"
     ]
    }
   ],
   "source": [
    "# write your answer here\n",
    "v=[4, 2, 8]\n",
    "print(v)\n",
    "print(type(v))\n",
    "print(\"\\nmaximum value in a set:\")\n",
    "print(max(v))\n",
    "print(\"\\nminimum value in a set:\")\n",
    "print(min(v))\n"
   ]
  },
  {
   "cell_type": "markdown",
   "metadata": {
    "colab_type": "text",
    "id": "uHkd-y5VhVWC"
   },
   "source": [
    "(9) Write a Python program to randomly divide the students in this class into six groups for term projects, each group should have at least 4 students but no more than 6 students (including 6). Here is the students list: (4 points)\n",
    "\n",
    "studnet_list = ['vmb0067','pc0353','snd0097','yye0005','sg0940','bk0301','rak0120','rrk0058','spk0057','vl0135','nm0547','pn0159',\n",
    "           'msp0174','dd0420','ds0761','rs0850','ss1995','at0739','at0768','mv0299','tv0119','dy0091','py0080','ttp0037','hc0439','ri0094','pk0339', 'hn0145','mn0426']"
   ]
  },
  {
   "cell_type": "code",
   "execution_count": 0,
   "metadata": {
    "colab": {},
    "colab_type": "code",
    "id": "3iGbmcOBhTwy"
   },
   "outputs": [],
   "source": [
    "# write your answer here\n"
   ]
  },
  {
   "cell_type": "markdown",
   "metadata": {},
   "source": [
    "(10) Write a Python program to find the duplicate elements in a given array of integers. Return -1 If there are no such elements. (4 points)"
   ]
  },
  {
   "cell_type": "code",
   "execution_count": 49,
   "metadata": {},
   "outputs": [
    {
     "name": "stdout",
     "output_type": "stream",
     "text": [
      "4\n",
      "8\n",
      "-1\n"
     ]
    }
   ],
   "source": [
    "# write your answer here\n",
    "def duplicate(nums):\n",
    "    N_set = set()\n",
    "    no_dup = -1\n",
    "\n",
    "    for i in range(len(nums)):\n",
    "\n",
    "        if nums[i] in N_set:\n",
    "            return nums[i]\n",
    "        else:\n",
    "            N_set.add(nums[i])\n",
    "\n",
    "    return no_dup\n",
    "\n",
    "print(duplicate([6, 1, 3, 4, 4, 7]))\n",
    "print(duplicate([8,2,8,4,6,44,7,9]))\n",
    "print(duplicate([1,2,3,4,5,6,7,8,9,0]))"
   ]
  },
  {
   "cell_type": "markdown",
   "metadata": {},
   "source": [
    "(11) Write a Python program to select all the Sundays of a specified year. (4 extra points)"
   ]
  },
  {
   "cell_type": "code",
   "execution_count": 46,
   "metadata": {},
   "outputs": [
    {
     "name": "stdout",
     "output_type": "stream",
     "text": [
      "2021\n",
      "DatetimeIndex(['2021-01-03', '2021-01-10', '2021-01-17', '2021-01-24',\n",
      "               '2021-01-31', '2021-02-07', '2021-02-14', '2021-02-21',\n",
      "               '2021-02-28', '2021-03-07', '2021-03-14', '2021-03-21',\n",
      "               '2021-03-28', '2021-04-04', '2021-04-11', '2021-04-18',\n",
      "               '2021-04-25', '2021-05-02', '2021-05-09', '2021-05-16',\n",
      "               '2021-05-23', '2021-05-30', '2021-06-06', '2021-06-13',\n",
      "               '2021-06-20', '2021-06-27', '2021-07-04', '2021-07-11',\n",
      "               '2021-07-18', '2021-07-25', '2021-08-01', '2021-08-08',\n",
      "               '2021-08-15', '2021-08-22', '2021-08-29', '2021-09-05',\n",
      "               '2021-09-12', '2021-09-19', '2021-09-26', '2021-10-03',\n",
      "               '2021-10-10', '2021-10-17', '2021-10-24', '2021-10-31',\n",
      "               '2021-11-07', '2021-11-14', '2021-11-21', '2021-11-28',\n",
      "               '2021-12-05', '2021-12-12', '2021-12-19', '2021-12-26'],\n",
      "              dtype='datetime64[ns]', freq='W-SUN')\n"
     ]
    }
   ],
   "source": [
    "# write your answer here\n",
    "import pandas as pd\n",
    "year = str(input())\n",
    "start = year + \"-01-01\"\n",
    "periods = 52\n",
    "freq = \"W-SUN\"\n",
    "sundays = pd.date_range(start=start, periods=periods, freq=freq)\n",
    "print(sundays)\n"
   ]
  },
  {
   "cell_type": "code",
   "execution_count": null,
   "metadata": {},
   "outputs": [],
   "source": []
  }
 ],
 "metadata": {
  "colab": {
   "collapsed_sections": [],
   "include_colab_link": true,
   "name": "In_class_exercise_01.ipynb",
   "provenance": []
  },
  "kernelspec": {
   "display_name": "Python 3",
   "language": "python",
   "name": "python3"
  },
  "language_info": {
   "codemirror_mode": {
    "name": "ipython",
    "version": 3
   },
   "file_extension": ".py",
   "mimetype": "text/x-python",
   "name": "python",
   "nbconvert_exporter": "python",
   "pygments_lexer": "ipython3",
   "version": "3.8.8"
  }
 },
 "nbformat": 4,
 "nbformat_minor": 1
}
