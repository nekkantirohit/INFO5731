{
 "cells": [
  {
   "cell_type": "markdown",
   "metadata": {
    "colab_type": "text",
    "id": "view-in-github"
   },
   "source": [
    "<a href=\"https://colab.research.google.com/github/unt-iialab/INFO5731_Spring2020/blob/master/Assignments/INFO5731_Assignment_One.ipynb\" target=\"_parent\"><img src=\"https://colab.research.google.com/assets/colab-badge.svg\" alt=\"Open In Colab\"/></a>"
   ]
  },
  {
   "cell_type": "markdown",
   "metadata": {
    "colab_type": "text",
    "id": "Ryk8D1Q4Wsrp"
   },
   "source": [
    "# **INFO5731 Assignment One**"
   ]
  },
  {
   "cell_type": "markdown",
   "metadata": {
    "colab_type": "text",
    "id": "90_NR8c5XGWc"
   },
   "source": [
    "# Question 1\n",
    "\n",
    "(20 points). Write a Python program to generate 12 random numbers between 1 and 100. Sort the list of numbers in ascending order and print it out. Sort the list of numbers in descending order and print it out. Calculate the average for the group and print it out."
   ]
  },
  {
   "cell_type": "code",
   "execution_count": 59,
   "metadata": {
    "colab": {},
    "colab_type": "code",
    "id": "5QX6bJjGWXY9"
   },
   "outputs": [
    {
     "name": "stdout",
     "output_type": "stream",
     "text": [
      "random numbers list: [72, 58, 47, 27, 8, 16, 58, 77, 48, 91, 38, 58]\n",
      "Asscending order of random list: [8, 16, 27, 38, 47, 48, 58, 58, 58, 72, 77, 91]\n",
      "descending order of random list: [91, 77, 72, 58, 58, 58, 48, 47, 38, 27, 16, 8]\n",
      "average of the list: 49.833333333333336\n"
     ]
    }
   ],
   "source": [
    "# Your code here\n",
    "import random\n",
    "no = 12\n",
    "result = []\n",
    "for i in range(no):\n",
    "    ## range of the list\n",
    "    number = random.randint(1,100)\n",
    "    result.append(number)\n",
    "print(\"random numbers list:\",result)\n",
    "## asscending order of the list\n",
    "result.sort()\n",
    "print(\"Asscending order of random list:\",result)\n",
    "##descending order of the list\n",
    "result.sort(reverse=True)  \n",
    "print(\"descending order of random list:\",result)\n",
    "##average of the list\n",
    "print(\"average of the list:\",sum(result)/len(result))\n",
    "    \n"
   ]
  },
  {
   "cell_type": "markdown",
   "metadata": {
    "colab_type": "text",
    "id": "1F_PZdH9Sh49"
   },
   "source": [
    "# Question 2\n",
    "(25 points). Write a program that will do the following string formatting tasks:\n",
    "\n",
    "(1) Ask the user to enter two sentences.\n",
    "\n",
    "(2) Make each sentence into a list. Each element in the list should correspond to a word in the sentence. For example, if the sentence is \"Alas! Am I alive? This is my first python program\", the program should print out ['Alas, '!', 'Am', 'I', 'alive, '?', 'This', 'is', 'my', 'first', 'python', 'program'].\n",
    "\n",
    "(3) Compare the two sentences. Print out a list of words that occur in both sentences.\n",
    "\n",
    "(4) Remove any punctuation from the sentence and print it back out. It should remove at least the following characters, but it can remove more: period(“.”), comma (“,”), semicolon (“;”), and colon (“:”)\n",
    "\n",
    "(5) Count the number of vowels in the sentences. Print out each vowel and the number of times it appears in the sentences, such as: a:2, e:1, i:0, etc"
   ]
  },
  {
   "cell_type": "code",
   "execution_count": 72,
   "metadata": {
    "colab": {},
    "colab_type": "code",
    "id": "Y0oOSlsOS0cq"
   },
   "outputs": [
    {
     "name": "stdout",
     "output_type": "stream",
     "text": [
      "enter your 1st sentence:i am good ?\n",
      "['i', 'am', 'good', '?']\n",
      "i am good \n",
      "number of vowels in sentence 1 {'a': 1, 'e': 0, 'i': 1, 'o': 2, 'u': 0}\n",
      "enter your 2nd sentence:i am bad !\n",
      "['i', 'am', 'bad', '!']\n",
      "i am bad \n",
      "number of vowels in sentence 2 {'a': 2, 'e': 0, 'i': 1, 'o': 0, 'u': 0}\n",
      "common words in both sentences {'i', 'am'}\n"
     ]
    }
   ],
   "source": [
    "# Your code here\n",
    "import re\n",
    "sent1 = input(\"enter your 1st sentence:\")\n",
    "words=sent1.split()\n",
    "#removing puctuations from sentence 1\n",
    "sent1 = re.sub(r'[^\\w\\s]','',sent1)\n",
    "# printing vowels from sentence 1\n",
    "vowel = {s: len(re.findall(f\"{s}\", sent1)) for s in \"aeiou\"}\n",
    "words_sent1=set(sent1.split())\n",
    "print(words)\n",
    "print(sent1)\n",
    "print(\"number of vowels in sentence 1\",vowel)\n",
    "sent2 = input(\"enter your 2nd sentence:\")\n",
    "words=sent2.split()\n",
    "# removing puctuations from sentence 2\n",
    "sent2 = re.sub(r'[^\\w\\s]','',sent2)\n",
    "# printing vowels from sentence 2\n",
    "vowel = {s: len(re.findall(f\"{s}\", sent2)) for s in \"aeiou\"}\n",
    "words_sent2=set(sent2.split())\n",
    "# common occuring words in both sentences\n",
    "common = words_sent1 & words_sent2\n",
    "print(words)\n",
    "print(sent2)\n",
    "print(\"number of vowels in sentence 2\",vowel)\n",
    "print(\"common words in both sentences\",common)\n"
   ]
  },
  {
   "cell_type": "markdown",
   "metadata": {
    "colab_type": "text",
    "id": "CmFoI4jDS9nx"
   },
   "source": [
    "# Question 3 \n",
    "\n",
    "(15 points). The formula that describes the volume V of a sphere with radius r is the following:\n",
    "\n",
    "$ V=\\frac{4}{3}\\ast\\ \\pi\\ast\\ r^3 $\n",
    "\n",
    "Write a program to calculate the value of V when r is in the range of 1–10. Output the result in the following format:\n",
    "\n",
    "\tr\tV\n",
    "\t1\t…\n",
    "\t2\t…\n",
    "\t3\t…\n"
   ]
  },
  {
   "cell_type": "code",
   "execution_count": 44,
   "metadata": {
    "colab": {},
    "colab_type": "code",
    "id": "pEyqeioAT95b"
   },
   "outputs": [
    {
     "name": "stdout",
     "output_type": "stream",
     "text": [
      "r V\n",
      "1 4.1887902047863905\n",
      "2 33.510321638291124\n",
      "3 113.09733552923255\n",
      "4 268.082573106329\n",
      "5 523.5987755982989\n",
      "6 904.7786842338604\n",
      "7 1436.755040241732\n",
      "8 2144.660584850632\n",
      "9 3053.628059289279\n",
      "10 4188.790204786391\n"
     ]
    }
   ],
   "source": [
    "# Your code here\n",
    "#importing math functions\n",
    "import math\n",
    "print('r V')\n",
    "#range for r values\n",
    "for r in range(1,11):\n",
    "        print(r,4/3*math.pi*r*r*r)"
   ]
  },
  {
   "cell_type": "code",
   "execution_count": null,
   "metadata": {
    "colab": {},
    "colab_type": "code",
    "id": "pMCr3l8tnu0j"
   },
   "outputs": [],
   "source": []
  },
  {
   "cell_type": "markdown",
   "metadata": {
    "colab_type": "text",
    "id": "z3tBE7E-Xn5X"
   },
   "source": [
    "\n",
    "# Question 4\n",
    "\n",
    "(40 points). In the field of Data Science, data is often formatted as a comma-delimited (CSV) file, where each line in a file corresponds to a field's value. Refer to Chapter 9 (p. 106) for more information on comma-delimited files. To answer this question, you will need to download the file [Assignment1_denton_housing.csv](https://github.com/unt-iialab/info5731-fall2021/blob/main/assignments/Assignment1_denton_housing.csv) included with this assignment. The file [Assignment1_denton_housing.csv](https://github.com/unt-iialab/info5731-fall2021/blob/main/assignments/Assignment1_denton_housing.csv) contains statistics about housing in the city of Denton from 2008 to 2014. Write a program to implement the following questions.\n",
    "\n",
    "(1) (10 pts) Calculate the difference in the number of Occupied Housing Units from year to year and print it. The difference must be calculated for the consecutive years such as 2008-2009, 2009-2010 etc. Finally, print the values in the ascending order.\n",
    "\n",
    "(2) (10 pts) For all the years, calculate the percentage of housing units which are vacant an occupied. Print the results in the following format:\n",
    "\n",
    "Year Vacant Housing Units Occupied Housing Units\n",
    "\n",
    "    2008  30%   70%                          \n",
    "\t2009 ----- -----\n",
    "\t2010 ----- -----\n",
    "    2011 ----- -----\n",
    "\t2012 ----- -----\n",
    "    2013 ----- -----\n",
    "\t2014 ----- -----\n",
    "  \n",
    "  \n",
    "\n",
    "(3) (10 pts) Calculate and print the valued and years in which the highest number of housing units were vacant and occupied. Print the results in the following format:  \n",
    "\n",
    "                              Year\tValue\n",
    "\tVacant Housing Units\t  -----   -----\n",
    "\tOccupied Housing Units\t-----   -----\n",
    "\n",
    "(4) (10 pts) Calculate the harmonic mean of the total housing units and print it out. You can find the information about harmonic mean here: https://ncalculators.com/statistics/harmonic-mean-calculator.htm"
   ]
  },
  {
   "cell_type": "code",
   "execution_count": 1,
   "metadata": {
    "colab": {},
    "colab_type": "code",
    "id": "lqGYuHBhcsRH"
   },
   "outputs": [],
   "source": [
    "# Your code here\n",
    "import numpy as np\n",
    "import pandas as pd\n",
    "import matplotlib.pyplot as plt\n",
    "import seaborn as sns\n",
    "%matplotlib inline\n",
    "\n"
   ]
  },
  {
   "cell_type": "code",
   "execution_count": 2,
   "metadata": {},
   "outputs": [],
   "source": [
    "from sklearn.preprocessing import StandardScaler"
   ]
  },
  {
   "cell_type": "code",
   "execution_count": 3,
   "metadata": {},
   "outputs": [
    {
     "data": {
      "text/plain": [
       "'C:\\\\Users\\\\nekka\\\\OneDrive\\\\Desktop\\\\INFO 5731'"
      ]
     },
     "execution_count": 3,
     "metadata": {},
     "output_type": "execute_result"
    }
   ],
   "source": [
    "pwd\n"
   ]
  },
  {
   "cell_type": "code",
   "execution_count": 65,
   "metadata": {},
   "outputs": [
    {
     "data": {
      "text/html": [
       "<div>\n",
       "<style scoped>\n",
       "    .dataframe tbody tr th:only-of-type {\n",
       "        vertical-align: middle;\n",
       "    }\n",
       "\n",
       "    .dataframe tbody tr th {\n",
       "        vertical-align: top;\n",
       "    }\n",
       "\n",
       "    .dataframe thead th {\n",
       "        text-align: right;\n",
       "    }\n",
       "</style>\n",
       "<table border=\"1\" class=\"dataframe\">\n",
       "  <thead>\n",
       "    <tr style=\"text-align: right;\">\n",
       "      <th></th>\n",
       "      <th>year</th>\n",
       "      <th>title_field</th>\n",
       "      <th>value</th>\n",
       "    </tr>\n",
       "  </thead>\n",
       "  <tbody>\n",
       "    <tr>\n",
       "      <th>0</th>\n",
       "      <td>2014</td>\n",
       "      <td>Total Housing Units</td>\n",
       "      <td>49109</td>\n",
       "    </tr>\n",
       "    <tr>\n",
       "      <th>1</th>\n",
       "      <td>2014</td>\n",
       "      <td>Vacant Housing Units</td>\n",
       "      <td>2814</td>\n",
       "    </tr>\n",
       "    <tr>\n",
       "      <th>2</th>\n",
       "      <td>2014</td>\n",
       "      <td>Occupied Housing Units</td>\n",
       "      <td>46295</td>\n",
       "    </tr>\n",
       "    <tr>\n",
       "      <th>3</th>\n",
       "      <td>2013</td>\n",
       "      <td>Total Housing Units</td>\n",
       "      <td>47888</td>\n",
       "    </tr>\n",
       "    <tr>\n",
       "      <th>4</th>\n",
       "      <td>2013</td>\n",
       "      <td>Vacant Housing Units</td>\n",
       "      <td>4215</td>\n",
       "    </tr>\n",
       "  </tbody>\n",
       "</table>\n",
       "</div>"
      ],
      "text/plain": [
       "   year             title_field  value\n",
       "0  2014     Total Housing Units  49109\n",
       "1  2014    Vacant Housing Units   2814\n",
       "2  2014  Occupied Housing Units  46295\n",
       "3  2013     Total Housing Units  47888\n",
       "4  2013    Vacant Housing Units   4215"
      ]
     },
     "execution_count": 65,
     "metadata": {},
     "output_type": "execute_result"
    }
   ],
   "source": [
    "home = pd.read_csv('Assignment1_denton_housing.csv')\n",
    "home.head()"
   ]
  },
  {
   "cell_type": "code",
   "execution_count": 74,
   "metadata": {},
   "outputs": [
    {
     "data": {
      "text/plain": [
       "[-5091, -2622, -1565, -1404, 303, 795]"
      ]
     },
     "execution_count": 74,
     "metadata": {},
     "output_type": "execute_result"
    }
   ],
   "source": [
    "\n",
    "#url='C:\\\\Users\\\\nekka\\\\OneDrive\\\\Desktop\\\\INFO 5731\\\\Assignment1_denton_housing.csv'\n",
    "#house = pd.read_csv(url, index_col=0)\n",
    "\n",
    "#number of occupied houses\n",
    "\n",
    "full_houses = home[home['title_field']=='Occupied Housing Units'].sort_values(by=['year'])\n",
    "\n",
    "#difference in number of occupied housing units from year to year\n",
    "\n",
    "new_house=[list(full_houses['value'].values)[iteration1]-list(full_houses['value'].values)[iteration1+1]\\\n",
    "           for iteration1 in range(len(full_houses)-1)]\n",
    "#sorting values in asscending order\n",
    "new_house=sorted(new_house)\n",
    "new_house\n"
   ]
  },
  {
   "cell_type": "code",
   "execution_count": 77,
   "metadata": {},
   "outputs": [
    {
     "data": {
      "text/html": [
       "<div>\n",
       "<style scoped>\n",
       "    .dataframe tbody tr th:only-of-type {\n",
       "        vertical-align: middle;\n",
       "    }\n",
       "\n",
       "    .dataframe tbody tr th {\n",
       "        vertical-align: top;\n",
       "    }\n",
       "\n",
       "    .dataframe thead th {\n",
       "        text-align: right;\n",
       "    }\n",
       "</style>\n",
       "<table border=\"1\" class=\"dataframe\">\n",
       "  <thead>\n",
       "    <tr style=\"text-align: right;\">\n",
       "      <th></th>\n",
       "      <th>Vacant Housing Units</th>\n",
       "      <th>Occupied Housing Units</th>\n",
       "      <th>Percent of Vacant House</th>\n",
       "      <th>Percent of Occupied  House</th>\n",
       "    </tr>\n",
       "  </thead>\n",
       "  <tbody>\n",
       "    <tr>\n",
       "      <th>0</th>\n",
       "      <td>4483</td>\n",
       "      <td>36711</td>\n",
       "      <td>10.882653</td>\n",
       "      <td>89.117347</td>\n",
       "    </tr>\n",
       "    <tr>\n",
       "      <th>1</th>\n",
       "      <td>3583</td>\n",
       "      <td>35916</td>\n",
       "      <td>9.071116</td>\n",
       "      <td>90.928884</td>\n",
       "    </tr>\n",
       "    <tr>\n",
       "      <th>2</th>\n",
       "      <td>3635</td>\n",
       "      <td>41007</td>\n",
       "      <td>8.142556</td>\n",
       "      <td>91.857444</td>\n",
       "    </tr>\n",
       "    <tr>\n",
       "      <th>3</th>\n",
       "      <td>4213</td>\n",
       "      <td>40704</td>\n",
       "      <td>9.379522</td>\n",
       "      <td>90.620478</td>\n",
       "    </tr>\n",
       "    <tr>\n",
       "      <th>4</th>\n",
       "      <td>3013</td>\n",
       "      <td>42108</td>\n",
       "      <td>6.677600</td>\n",
       "      <td>93.322400</td>\n",
       "    </tr>\n",
       "    <tr>\n",
       "      <th>5</th>\n",
       "      <td>4215</td>\n",
       "      <td>43673</td>\n",
       "      <td>8.801788</td>\n",
       "      <td>91.198212</td>\n",
       "    </tr>\n",
       "    <tr>\n",
       "      <th>6</th>\n",
       "      <td>2814</td>\n",
       "      <td>46295</td>\n",
       "      <td>5.730111</td>\n",
       "      <td>94.269889</td>\n",
       "    </tr>\n",
       "  </tbody>\n",
       "</table>\n",
       "</div>"
      ],
      "text/plain": [
       "   Vacant Housing Units  Occupied Housing Units  Percent of Vacant House  \\\n",
       "0                  4483                   36711                10.882653   \n",
       "1                  3583                   35916                 9.071116   \n",
       "2                  3635                   41007                 8.142556   \n",
       "3                  4213                   40704                 9.379522   \n",
       "4                  3013                   42108                 6.677600   \n",
       "5                  4215                   43673                 8.801788   \n",
       "6                  2814                   46295                 5.730111   \n",
       "\n",
       "   Percent of Occupied  House  \n",
       "0                   89.117347  \n",
       "1                   90.928884  \n",
       "2                   91.857444  \n",
       "3                   90.620478  \n",
       "4                   93.322400  \n",
       "5                   91.198212  \n",
       "6                   94.269889  "
      ]
     },
     "execution_count": 77,
     "metadata": {},
     "output_type": "execute_result"
    }
   ],
   "source": [
    "import pandas as pd\n",
    "import numpy as np\n",
    "\n",
    "url='C:\\\\Users\\\\nekka\\\\OneDrive\\\\Desktop\\\\INFO 5731\\\\Assignment1_denton_housing.csv'\n",
    "data = pd.read_csv(url, index_col=0)\n",
    "unique_years = sorted(list(home['year'].unique()))\n",
    "\n",
    "#newhouse_df=pd.DataFrame()\n",
    "#unique years\n",
    "newhouse_df['year']=unique_years\n",
    "#number of occupied houses \n",
    "full_houses = home[home['title_field']=='Occupied Housing Units'].sort_values(by=['year'])\n",
    "#number of unoccupied houses\n",
    "empty_houses = home[home['title_field']=='Vacant Housing Units'].sort_values(by=['year'])\n",
    "#creating dataframe\n",
    "newhouse_df=pd.DataFrame()\n",
    "#calling vacant housing units and occupied housing units values from dataset\n",
    "newhouse_df['Vacant Housing Units']=empty_houses['value'].values\n",
    "newhouse_df['Occupied Housing Units']=full_houses['value'].values\n",
    "#calculating the percentage of housing units which are vacant\n",
    "newhouse_df['Percent of Vacant House'] = [(newhouse_df['Vacant Housing Units'][iteration1]*100)/\\\n",
    "                                         (newhouse_df['Vacant Housing Units'][iteration1]+newhouse_df['Occupied Housing Units'][iteration1])\\\n",
    "                                         for iteration1 in range(len(newhouse_df))]\n",
    "#calculating the percentage of housing units which are occupied \n",
    "newhouse_df['Percent of Occupied  House'] = [(newhouse_df['Occupied Housing Units'][iteration1]*100)/\\\n",
    "                                         (newhouse_df['Vacant Housing Units'][iteration1]+newhouse_df['Occupied Housing Units'][iteration1])\\\n",
    "                                         for iteration1 in range(len(newhouse_df))]\n",
    "newhouse_df"
   ]
  },
  {
   "cell_type": "code",
   "execution_count": 68,
   "metadata": {},
   "outputs": [
    {
     "data": {
      "text/html": [
       "<div>\n",
       "<style scoped>\n",
       "    .dataframe tbody tr th:only-of-type {\n",
       "        vertical-align: middle;\n",
       "    }\n",
       "\n",
       "    .dataframe tbody tr th {\n",
       "        vertical-align: top;\n",
       "    }\n",
       "\n",
       "    .dataframe thead th {\n",
       "        text-align: right;\n",
       "    }\n",
       "</style>\n",
       "<table border=\"1\" class=\"dataframe\">\n",
       "  <thead>\n",
       "    <tr style=\"text-align: right;\">\n",
       "      <th></th>\n",
       "      <th>year</th>\n",
       "      <th>title_field</th>\n",
       "      <th>value</th>\n",
       "    </tr>\n",
       "  </thead>\n",
       "  <tbody>\n",
       "    <tr>\n",
       "      <th>19</th>\n",
       "      <td>2008</td>\n",
       "      <td>Vacant Housing Units</td>\n",
       "      <td>4483</td>\n",
       "    </tr>\n",
       "  </tbody>\n",
       "</table>\n",
       "</div>"
      ],
      "text/plain": [
       "    year           title_field  value\n",
       "19  2008  Vacant Housing Units   4483"
      ]
     },
     "execution_count": 68,
     "metadata": {},
     "output_type": "execute_result"
    }
   ],
   "source": [
    "max_empty_houses=max(home[home['title_field']=='Vacant Housing Units'].value)\n",
    "empty_houses=empty_houses[empty_houses['value']==max_empty_houses]\n",
    "empty_houses"
   ]
  },
  {
   "cell_type": "code",
   "execution_count": 69,
   "metadata": {},
   "outputs": [
    {
     "data": {
      "text/html": [
       "<div>\n",
       "<style scoped>\n",
       "    .dataframe tbody tr th:only-of-type {\n",
       "        vertical-align: middle;\n",
       "    }\n",
       "\n",
       "    .dataframe tbody tr th {\n",
       "        vertical-align: top;\n",
       "    }\n",
       "\n",
       "    .dataframe thead th {\n",
       "        text-align: right;\n",
       "    }\n",
       "</style>\n",
       "<table border=\"1\" class=\"dataframe\">\n",
       "  <thead>\n",
       "    <tr style=\"text-align: right;\">\n",
       "      <th></th>\n",
       "      <th>year</th>\n",
       "      <th>title_field</th>\n",
       "      <th>value</th>\n",
       "    </tr>\n",
       "  </thead>\n",
       "  <tbody>\n",
       "    <tr>\n",
       "      <th>2</th>\n",
       "      <td>2014</td>\n",
       "      <td>Occupied Housing Units</td>\n",
       "      <td>46295</td>\n",
       "    </tr>\n",
       "  </tbody>\n",
       "</table>\n",
       "</div>"
      ],
      "text/plain": [
       "   year             title_field  value\n",
       "2  2014  Occupied Housing Units  46295"
      ]
     },
     "execution_count": 69,
     "metadata": {},
     "output_type": "execute_result"
    }
   ],
   "source": [
    "max_full_houses=max(home[home['title_field']=='Occupied Housing Units'].value)\n",
    "full_houses=full_houses[full_houses['value']==max_full_houses]\n",
    "full_houses"
   ]
  },
  {
   "cell_type": "code",
   "execution_count": 70,
   "metadata": {},
   "outputs": [
    {
     "name": "stdout",
     "output_type": "stream",
     "text": [
      "44398.28543969185\n"
     ]
    }
   ],
   "source": [
    "import statistics as stat\n",
    "print(stat.harmonic_mean(list(home[home['title_field']=='Total Housing Units'].value)))"
   ]
  }
 ],
 "metadata": {
  "colab": {
   "authorship_tag": "ABX9TyOAjsNCkNulTpzgRQbHdy3f",
   "collapsed_sections": [],
   "include_colab_link": true,
   "name": "INFO5731_Assignment_One.ipynb",
   "provenance": []
  },
  "kernelspec": {
   "display_name": "Python 3",
   "language": "python",
   "name": "python3"
  },
  "language_info": {
   "codemirror_mode": {
    "name": "ipython",
    "version": 3
   },
   "file_extension": ".py",
   "mimetype": "text/x-python",
   "name": "python",
   "nbconvert_exporter": "python",
   "pygments_lexer": "ipython3",
   "version": "3.8.8"
  }
 },
 "nbformat": 4,
 "nbformat_minor": 1
}
