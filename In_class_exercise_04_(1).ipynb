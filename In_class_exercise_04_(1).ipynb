{
  "nbformat": 4,
  "nbformat_minor": 0,
  "metadata": {
    "colab": {
      "name": "In_class_exercise_04_(1).ipynb",
      "provenance": [],
      "include_colab_link": true
    },
    "kernelspec": {
      "name": "python3",
      "display_name": "Python 3"
    },
    "language_info": {
      "name": "python"
    }
  },
  "cells": [
    {
      "cell_type": "markdown",
      "metadata": {
        "id": "view-in-github",
        "colab_type": "text"
      },
      "source": [
        "<a href=\"https://colab.research.google.com/github/nekkantirohit/INFO5731/blob/main/In_class_exercise_04_(1).ipynb\" target=\"_parent\"><img src=\"https://colab.research.google.com/assets/colab-badge.svg\" alt=\"Open In Colab\"/></a>"
      ]
    },
    {
      "cell_type": "markdown",
      "metadata": {
        "id": "9sbPHUrNHVW8"
      },
      "source": [
        "##**The seventh in-class-exercise (40 points in total, 10/20/2021)**"
      ]
    },
    {
      "cell_type": "markdown",
      "metadata": {
        "id": "UP8sgF06EG6v"
      },
      "source": [
        "(1) (15 points) Generate K topics by using LDA, the number of topics K should be decided by the coherence score, then summarize what are the topics. You may refer the code here:\n",
        "https://www.machinelearningplus.com/nlp/topic-modeling-gensim-python/"
      ]
    },
    {
      "cell_type": "markdown",
      "metadata": {
        "id": "qXHX6kiCP_nf"
      },
      "source": [
        "#Importing Required Modules"
      ]
    },
    {
      "cell_type": "code",
      "metadata": {
        "colab": {
          "base_uri": "https://localhost:8080/"
        },
        "id": "u3Rigw5O54k8",
        "outputId": "44c15af7-27b9-45cc-f71a-a4eb02538e64"
      },
      "source": [
        "# Write your code here\n",
        "!pip install pyLDAvis\n",
        "import nltk; nltk.download('stopwords')\n",
        "import re\n",
        "import numpy as np\n",
        "import pandas as pd\n",
        "from pprint import pprint\n",
        "import gensim\n",
        "import gensim.corpora as corpora\n",
        "from gensim.utils import simple_preprocess\n",
        "from gensim.models import CoherenceModel\n",
        "import spacy\n",
        "import pyLDAvis\n",
        "import pyLDAvis.gensim_models  \n",
        "import matplotlib.pyplot as plt\n",
        "%matplotlib inline\n",
        "import requests\n",
        "from bs4 import BeautifulSoup\n",
        "import warnings\n",
        "warnings.filterwarnings(\"ignore\",category=DeprecationWarning)\n",
        "import spacy.cli\n",
        "spacy.cli.download('en_core_web_sm')\n",
        "import os\n",
        "def install_java():\n",
        "  !apt-get install -y openjdk-8-jdk-headless -qq > /dev/null\n",
        "  os.environ[\"JAVA_HOME\"] = \"/usr/lib/jvm/java-8-openjdk-amd64\"\n",
        "  !java -version\n",
        "install_java()"
      ],
      "execution_count": null,
      "outputs": [
        {
          "output_type": "stream",
          "name": "stdout",
          "text": [
            "Requirement already satisfied: pyLDAvis in /usr/local/lib/python3.7/dist-packages (3.3.1)\n",
            "Requirement already satisfied: numexpr in /usr/local/lib/python3.7/dist-packages (from pyLDAvis) (2.7.3)\n",
            "Requirement already satisfied: scikit-learn in /usr/local/lib/python3.7/dist-packages (from pyLDAvis) (0.22.2.post1)\n",
            "Requirement already satisfied: setuptools in /usr/local/lib/python3.7/dist-packages (from pyLDAvis) (57.4.0)\n",
            "Requirement already satisfied: future in /usr/local/lib/python3.7/dist-packages (from pyLDAvis) (0.16.0)\n",
            "Requirement already satisfied: sklearn in /usr/local/lib/python3.7/dist-packages (from pyLDAvis) (0.0)\n",
            "Requirement already satisfied: gensim in /usr/local/lib/python3.7/dist-packages (from pyLDAvis) (3.6.0)\n",
            "Requirement already satisfied: joblib in /usr/local/lib/python3.7/dist-packages (from pyLDAvis) (1.0.1)\n",
            "Requirement already satisfied: scipy in /usr/local/lib/python3.7/dist-packages (from pyLDAvis) (1.4.1)\n",
            "Requirement already satisfied: funcy in /usr/local/lib/python3.7/dist-packages (from pyLDAvis) (1.16)\n",
            "Requirement already satisfied: pandas>=1.2.0 in /usr/local/lib/python3.7/dist-packages (from pyLDAvis) (1.3.4)\n",
            "Requirement already satisfied: numpy>=1.20.0 in /usr/local/lib/python3.7/dist-packages (from pyLDAvis) (1.21.3)\n",
            "Requirement already satisfied: jinja2 in /usr/local/lib/python3.7/dist-packages (from pyLDAvis) (2.11.3)\n",
            "Requirement already satisfied: pytz>=2017.3 in /usr/local/lib/python3.7/dist-packages (from pandas>=1.2.0->pyLDAvis) (2018.9)\n",
            "Requirement already satisfied: python-dateutil>=2.7.3 in /usr/local/lib/python3.7/dist-packages (from pandas>=1.2.0->pyLDAvis) (2.8.2)\n",
            "Requirement already satisfied: six>=1.5 in /usr/local/lib/python3.7/dist-packages (from python-dateutil>=2.7.3->pandas>=1.2.0->pyLDAvis) (1.15.0)\n",
            "Requirement already satisfied: smart-open>=1.2.1 in /usr/local/lib/python3.7/dist-packages (from gensim->pyLDAvis) (5.2.1)\n",
            "Requirement already satisfied: MarkupSafe>=0.23 in /usr/local/lib/python3.7/dist-packages (from jinja2->pyLDAvis) (2.0.1)\n",
            "[nltk_data] Downloading package stopwords to /root/nltk_data...\n",
            "[nltk_data]   Package stopwords is already up-to-date!\n"
          ]
        },
        {
          "output_type": "stream",
          "name": "stderr",
          "text": [
            "/usr/local/lib/python3.7/dist-packages/past/types/oldstr.py:5: DeprecationWarning: Using or importing the ABCs from 'collections' instead of from 'collections.abc' is deprecated since Python 3.3,and in 3.9 it will stop working\n",
            "  from collections import Iterable\n",
            "/usr/local/lib/python3.7/dist-packages/sklearn/decomposition/_lda.py:29: DeprecationWarning: `np.float` is a deprecated alias for the builtin `float`. To silence this warning, use `float` by itself. Doing this will not modify any behavior and is safe. If you specifically wanted the numpy scalar type, use `np.float64` here.\n",
            "Deprecated in NumPy 1.20; for more details and guidance: https://numpy.org/devdocs/release/1.20.0-notes.html#deprecations\n",
            "  EPS = np.finfo(np.float).eps\n"
          ]
        },
        {
          "output_type": "stream",
          "name": "stdout",
          "text": [
            "\u001b[38;5;2m✔ Download and installation successful\u001b[0m\n",
            "You can now load the model via spacy.load('en_core_web_sm')\n",
            "openjdk version \"11.0.11\" 2021-04-20\n",
            "OpenJDK Runtime Environment (build 11.0.11+9-Ubuntu-0ubuntu2.18.04)\n",
            "OpenJDK 64-Bit Server VM (build 11.0.11+9-Ubuntu-0ubuntu2.18.04, mixed mode, sharing)\n"
          ]
        }
      ]
    },
    {
      "cell_type": "markdown",
      "metadata": {
        "id": "jz0ekqqaQGRz"
      },
      "source": [
        "#Importing Stopwords module from nltk"
      ]
    },
    {
      "cell_type": "code",
      "metadata": {
        "id": "DWzgxnuE6Bf0"
      },
      "source": [
        "from nltk.corpus import stopwords\n",
        "stop_words = stopwords.words('english')\n",
        "stop_words.extend(['from', 'subject', 're', 'edu', 'use'])"
      ],
      "execution_count": null,
      "outputs": []
    },
    {
      "cell_type": "markdown",
      "metadata": {
        "id": "e-lcYrWKQJ2j"
      },
      "source": [
        "#importing link"
      ]
    },
    {
      "cell_type": "code",
      "metadata": {
        "id": "NUiH_38T6FqU"
      },
      "source": [
        "\n",
        "n = [ ]\n",
        "data = [ ]\n",
        "p_no = [0,10,20,30,40,50,60,70,80,90]\n",
        "for i in p_no:\n",
        "  #calling the link using request module\n",
        "  p = requests.get('https://www.imdb.com/title/tt6751668/reviews?ref_=tt_urv'+ str (i))\n",
        "  review = BeautifulSoup(p.content,'html.parser')\n",
        "  n.append(review.find_all('a',class_='title'))\n",
        "\n",
        "for j in n:\n",
        "  for k in range(len(j)):\n",
        "    data.append(j[k].get_text())\n",
        "\n",
        "\n",
        "\n",
        "# Remove new line characters\n",
        "data = [re.sub('\\s+', ' ', sent) for sent in data]\n",
        "\n",
        "# Remove distracting single quotes\n",
        "data = [re.sub(\"\\'\", \"\", sent) for sent in data]"
      ],
      "execution_count": null,
      "outputs": []
    },
    {
      "cell_type": "markdown",
      "metadata": {
        "id": "F0vM64wRQW86"
      },
      "source": [
        "#Tokenization and punctuation"
      ]
    },
    {
      "cell_type": "code",
      "metadata": {
        "id": "SoySJrfk6MAl"
      },
      "source": [
        "def sent_to_words(sentences):\n",
        "    for sentence in sentences:\n",
        "        yield(gensim.utils.simple_preprocess(str(sentence), deacc=True))  # deacc=True removes punctuations\n",
        "\n",
        "data_words = list(sent_to_words(data))"
      ],
      "execution_count": null,
      "outputs": []
    },
    {
      "cell_type": "code",
      "metadata": {
        "colab": {
          "base_uri": "https://localhost:8080/"
        },
        "id": "7dMGO2JH6P2J",
        "outputId": "2cc6465f-d88f-4595-cb2f-03b4b5ec0736"
      },
      "source": [
        "# Building the bigram and trigram models\n",
        "bigram = gensim.models.Phrases(data_words, min_count=5, threshold=100) # higher threshold fewer phrases.\n",
        "trigram = gensim.models.Phrases(bigram[data_words], threshold=100)  \n",
        "# Faster way to get a sentence clubbed as a trigram/bigram\n",
        "bigram_mod = gensim.models.phrases.Phraser(bigram)\n",
        "trigram_mod = gensim.models.phrases.Phraser(trigram)\n",
        "# See trigram example\n",
        "print(trigram_mod[bigram_mod[data_words[0]]])"
      ],
      "execution_count": null,
      "outputs": [
        {
          "output_type": "stream",
          "name": "stdout",
          "text": [
            "['loved', 'the', 'first', 'but', 'the', 'last', 'might', 'be', 'very', 'tough', 'for', 'some', 'viewers']\n"
          ]
        },
        {
          "output_type": "stream",
          "name": "stderr",
          "text": [
            "/usr/local/lib/python3.7/dist-packages/gensim/models/phrases.py:598: UserWarning: For a faster implementation, use the gensim.models.phrases.Phraser class\n",
            "  warnings.warn(\"For a faster implementation, use the gensim.models.phrases.Phraser class\")\n"
          ]
        }
      ]
    },
    {
      "cell_type": "code",
      "metadata": {
        "id": "MEoxPclv6S0b"
      },
      "source": [
        "#deining removing stopwords\n",
        "def remove_stopwords(texts):\n",
        "    return [[word for word in simple_preprocess(str(doc)) if word not in stop_words] for doc in texts]\n",
        "#defining removing bigrams\n",
        "def make_bigrams(texts):\n",
        "    return [bigram_mod[doc] for doc in texts]\n",
        "#removing trigrams\n",
        "def make_trigrams(texts):\n",
        "    return [trigram_mod[bigram_mod[doc]] for doc in texts]\n",
        "#lemmitization\n",
        "def lemmatization(texts, allowed_postags=['NOUN', 'ADJ', 'VERB', 'ADV']):\n",
        "    \"\"\"https://spacy.io/api/annotation\"\"\"\n",
        "    texts_out = []\n",
        "    for sent in texts:\n",
        "        doc = nlp(\" \".join(sent)) \n",
        "        texts_out.append([token.lemma_ for token in doc if token.pos_ in allowed_postags])\n",
        "    return texts_out"
      ],
      "execution_count": null,
      "outputs": []
    },
    {
      "cell_type": "code",
      "metadata": {
        "colab": {
          "base_uri": "https://localhost:8080/"
        },
        "id": "VaDUsI1J6WCg",
        "outputId": "a5ed1812-9337-47f1-b47d-6c9f08b6d2a2"
      },
      "source": [
        "# Remove Stop Words\n",
        "data_words_nostops = remove_stopwords(data_words)\n",
        "# Form Bigrams\n",
        "data_words_bigrams = make_bigrams(data_words_nostops)\n",
        "# Initialize spacy 'en' model, keeping only tagger component (for efficiency)\n",
        "# python3 -m spacy download en\n",
        "nlp = spacy.load('en', disable=['parser', 'ner'])\n",
        "# Do lemmatization keeping only noun, adj, vb, adv\n",
        "data_lemmatized = lemmatization(data_words_bigrams, allowed_postags=['NOUN', 'ADJ', 'VERB', 'ADV'])\n",
        "print(data_lemmatized[:1])"
      ],
      "execution_count": null,
      "outputs": [
        {
          "output_type": "stream",
          "name": "stdout",
          "text": [
            "[['love', 'first', 'last', 'may', 'tough', 'viewer']]\n"
          ]
        }
      ]
    },
    {
      "cell_type": "code",
      "metadata": {
        "colab": {
          "base_uri": "https://localhost:8080/"
        },
        "id": "oc3dMgBN6ZZD",
        "outputId": "313316c7-8d76-4436-8595-af96e7062738"
      },
      "source": [
        "# Create a Dictionary\n",
        "id2word = corpora.Dictionary(data_lemmatized)\n",
        "# Create the Corpus\n",
        "texts = data_lemmatized\n",
        "# Term Document Frequency\n",
        "corpus = [id2word.doc2bow(text) for text in texts]\n",
        "# View\n",
        "print(corpus[:1])"
      ],
      "execution_count": null,
      "outputs": [
        {
          "output_type": "stream",
          "name": "stdout",
          "text": [
            "[[(0, 1), (1, 1), (2, 1), (3, 1), (4, 1), (5, 1)]]\n"
          ]
        }
      ]
    },
    {
      "cell_type": "code",
      "metadata": {
        "id": "TMK9NA2m6b1g"
      },
      "source": [
        "# Build the LDA model\n",
        "lda_model = gensim.models.ldamodel.LdaModel(corpus=corpus,\n",
        "                                           id2word=id2word,\n",
        "                                           num_topics=20, \n",
        "                                           random_state=100,\n",
        "                                           update_every=1,\n",
        "                                           chunksize=100,\n",
        "                                           passes=10,\n",
        "                                           alpha='auto',\n",
        "                                           per_word_topics=True)"
      ],
      "execution_count": null,
      "outputs": []
    },
    {
      "cell_type": "code",
      "metadata": {
        "colab": {
          "base_uri": "https://localhost:8080/"
        },
        "id": "eJplXyvJ6eYs",
        "outputId": "fca38a11-c96e-4bf6-83be-933c19c7b22d"
      },
      "source": [
        "#printing lda model topics\n",
        "pprint(lda_model.print_topics())\n",
        "doc_lda = lda_model[corpus]"
      ],
      "execution_count": null,
      "outputs": [
        {
          "output_type": "stream",
          "name": "stdout",
          "text": [
            "[(0,\n",
            "  '0.913*\"parasite\" + 0.002*\"certainly\" + 0.002*\"underwhelme\" + 0.002*\"enough\" '\n",
            "  '+ 0.002*\"earn\" + 0.002*\"conventional\" + 0.002*\"interesting\" + '\n",
            "  '0.002*\"picture\" + 0.002*\"attention\" + 0.002*\"topic\"'),\n",
            " (1,\n",
            "  '0.017*\"fragile\" + 0.017*\"ecosystem\" + 0.017*\"drama\" + 0.017*\"aspect\" + '\n",
            "  '0.017*\"social\" + 0.017*\"incredible\" + 0.017*\"good\" + 0.017*\"comfort\" + '\n",
            "  '0.017*\"intelligent\" + 0.017*\"entertaining\"'),\n",
            " (2,\n",
            "  '0.779*\"intruder\" + 0.004*\"half\" + 0.004*\"film\" + 0.004*\"parasite\" + '\n",
            "  '0.004*\"probably\" + 0.004*\"story\" + 0.004*\"tell\" + 0.004*\"interesting\" + '\n",
            "  '0.004*\"ill\" + 0.004*\"piece\"'),\n",
            " (3,\n",
            "  '0.017*\"parasite\" + 0.017*\"story\" + 0.017*\"first\" + 0.017*\"ghost\" + '\n",
            "  '0.017*\"last\" + 0.017*\"viewer\" + 0.017*\"love\" + 0.017*\"may\" + 0.017*\"tough\" '\n",
            "  '+ 0.017*\"enough\"'),\n",
            " (4,\n",
            "  '0.439*\"thoroughly\" + 0.439*\"entertaining\" + 0.002*\"story\" + 0.002*\"thought\" '\n",
            "  '+ 0.002*\"enough\" + 0.002*\"earn\" + 0.002*\"conventional\" + 0.002*\"certainly\" '\n",
            "  '+ 0.002*\"interesting\" + 0.002*\"picture\"'),\n",
            " (5,\n",
            "  '0.160*\"work\" + 0.160*\"life\" + 0.160*\"way\" + 0.160*\"plan\" + 0.160*\"never\" + '\n",
            "  '0.160*\"make\" + 0.001*\"parasite\" + 0.001*\"thoroughly\" + 0.001*\"entertaining\" '\n",
            "  '+ 0.001*\"earn\"'),\n",
            " (6,\n",
            "  '0.779*\"incredible\" + 0.004*\"intriguing\" + 0.004*\"funny\" + 0.004*\"dark\" + '\n",
            "  '0.004*\"profound\" + 0.004*\"underwhelme\" + 0.004*\"conventional\" + '\n",
            "  '0.004*\"certainly\" + 0.004*\"picture\" + 0.004*\"enough\"'),\n",
            " (7,\n",
            "  '0.439*\"totally\" + 0.439*\"unique\" + 0.002*\"incredible\" + 0.002*\"original\" + '\n",
            "  '0.002*\"overrate\" + 0.002*\"unconventional\" + 0.002*\"tad\" + 0.002*\"piece\" + '\n",
            "  '0.002*\"ill\" + 0.002*\"enough\"'),\n",
            " (8,\n",
            "  '0.017*\"attention\" + 0.017*\"pay\" + 0.017*\"topic\" + 0.017*\"ecosystem\" + '\n",
            "  '0.017*\"unique\" + 0.017*\"life\" + 0.017*\"plan\" + 0.017*\"way\" + '\n",
            "  '0.017*\"incredible\" + 0.017*\"never\"'),\n",
            " (9,\n",
            "  '0.779*\"question\" + 0.004*\"parasite\" + 0.004*\"certainly\" + 0.004*\"enough\" + '\n",
            "  '0.004*\"earn\" + 0.004*\"conventional\" + 0.004*\"ill\" + 0.004*\"picture\" + '\n",
            "  '0.004*\"attention\" + 0.004*\"topic\"'),\n",
            " (10,\n",
            "  '0.234*\"profound\" + 0.234*\"intriguing\" + 0.234*\"funny\" + 0.234*\"dark\" + '\n",
            "  '0.001*\"last\" + 0.001*\"first\" + 0.001*\"tough\" + 0.001*\"may\" + 0.001*\"viewer\" '\n",
            "  '+ 0.001*\"love\"'),\n",
            " (11,\n",
            "  '0.066*\"tad\" + 0.066*\"underwhelme\" + 0.066*\"good\" + 0.066*\"picture\" + '\n",
            "  '0.066*\"enough\" + 0.066*\"interesting\" + 0.066*\"ill\" + 0.066*\"certainly\" + '\n",
            "  '0.066*\"conventional\" + 0.066*\"earn\"'),\n",
            " (12,\n",
            "  '0.138*\"good\" + 0.138*\"entertain\" + 0.138*\"film\" + 0.138*\"fairly\" + '\n",
            "  '0.138*\"ecosystem\" + 0.138*\"fragile\" + 0.138*\"comfort\" + 0.001*\"picture\" + '\n",
            "  '0.001*\"earn\" + 0.001*\"enough\"'),\n",
            " (13,\n",
            "  '0.439*\"ghost\" + 0.439*\"story\" + 0.002*\"never\" + 0.002*\"work\" + 0.002*\"way\" '\n",
            "  '+ 0.002*\"plan\" + 0.002*\"make\" + 0.002*\"life\" + 0.002*\"last\" + '\n",
            "  '0.002*\"first\"'),\n",
            " (14,\n",
            "  '0.439*\"picture\" + 0.439*\"good\" + 0.002*\"social\" + 0.002*\"drama\" + '\n",
            "  '0.002*\"engage\" + 0.002*\"intelligent\" + 0.002*\"aspect\" + 0.002*\"thoroughly\" '\n",
            "  '+ 0.002*\"entertaining\" + 0.002*\"conventional\"'),\n",
            " (15,\n",
            "  '0.305*\"original\" + 0.305*\"overrate\" + 0.305*\"unconventional\" + '\n",
            "  '0.002*\"question\" + 0.002*\"enough\" + 0.002*\"earn\" + 0.002*\"piece\" + '\n",
            "  '0.002*\"interesting\" + 0.002*\"ill\" + 0.002*\"topic\"'),\n",
            " (16,\n",
            "  '0.108*\"topic\" + 0.108*\"pay\" + 0.108*\"attention\" + 0.108*\"first\" + '\n",
            "  '0.108*\"may\" + 0.108*\"viewer\" + 0.108*\"love\" + 0.108*\"last\" + 0.108*\"tough\" '\n",
            "  '+ 0.001*\"parasite\"'),\n",
            " (17,\n",
            "  '0.439*\"film\" + 0.439*\"half\" + 0.002*\"entertain\" + 0.002*\"parasite\" + '\n",
            "  '0.002*\"good\" + 0.002*\"fairly\" + 0.002*\"interesting\" + 0.002*\"ill\" + '\n",
            "  '0.002*\"enough\" + 0.002*\"piece\"'),\n",
            " (18,\n",
            "  '0.190*\"social\" + 0.190*\"aspect\" + 0.190*\"drama\" + 0.190*\"engage\" + '\n",
            "  '0.190*\"intelligent\" + 0.001*\"original\" + 0.001*\"unconventional\" + '\n",
            "  '0.001*\"overrate\" + 0.001*\"conventional\" + 0.001*\"picture\"'),\n",
            " (19,\n",
            "  '0.439*\"thought\" + 0.439*\"story\" + 0.002*\"parasite\" + 0.002*\"certainly\" + '\n",
            "  '0.002*\"enough\" + 0.002*\"earn\" + 0.002*\"conventional\" + 0.002*\"ill\" + '\n",
            "  '0.002*\"pay\" + 0.002*\"tad\"')]\n"
          ]
        }
      ]
    },
    {
      "cell_type": "code",
      "metadata": {
        "colab": {
          "base_uri": "https://localhost:8080/"
        },
        "id": "KItNxMKH6g0A",
        "outputId": "67397bb8-d6c1-4378-ecce-d629dc911f7c"
      },
      "source": [
        "print('\\nPerplexity: ', lda_model.log_perplexity(corpus))  # a measure of how good the model is. lower the better.\n",
        "# Computing the Coherence Score\n",
        "coherence_model_lda = CoherenceModel(model=lda_model, texts=data_lemmatized, dictionary=id2word, coherence='c_v')\n",
        "coherence_lda = coherence_model_lda.get_coherence()\n",
        "print('\\nCoherence Score: ', coherence_lda)"
      ],
      "execution_count": null,
      "outputs": [
        {
          "output_type": "stream",
          "name": "stdout",
          "text": [
            "\n",
            "Perplexity:  -3.3092529026874855\n",
            "\n",
            "Coherence Score:  0.5006185814919522\n"
          ]
        }
      ]
    },
    {
      "cell_type": "code",
      "metadata": {
        "id": "6TeZtFY36mj0"
      },
      "source": [
        "#defining mallet \n",
        "mallet_path = '/content/mallet-2.0.8/bin/mallet' # update this path\n",
        "ldamallet = gensim.models.wrappers.LdaMallet(mallet_path, corpus=corpus, num_topics=20, id2word=id2word)"
      ],
      "execution_count": null,
      "outputs": []
    },
    {
      "cell_type": "code",
      "metadata": {
        "id": "6zjplJq36o57"
      },
      "source": [
        "def compute_coherence_values(dictionary, corpus, texts, limit, start=2, step=3):\n",
        "    \"\"\"\n",
        "    Compute c_v coherence for various number of topics\n",
        "    model_list : List of LDA topic models\n",
        "    coherence_values : Coherence values corresponding to the LDA model with respective number of topics\n",
        "    \"\"\"\n",
        "    coherence_values = []\n",
        "    model_list = []\n",
        "    for num_topics in range(start, limit, step):\n",
        "        model = gensim.models.wrappers.LdaMallet(mallet_path, corpus=corpus, num_topics=num_topics, id2word=id2word)\n",
        "        model_list.append(model)\n",
        "        coherencemodel = CoherenceModel(model=model, texts=texts, dictionary=dictionary, coherence='c_v')\n",
        "        coherence_values.append(coherencemodel.get_coherence())\n",
        "\n",
        "    return model_list, coherence_values"
      ],
      "execution_count": null,
      "outputs": []
    },
    {
      "cell_type": "code",
      "metadata": {
        "id": "Ljub_Et86r_p"
      },
      "source": [
        "model_list, coherence_values = compute_coherence_values(dictionary=id2word, corpus=corpus, texts=data_lemmatized, start=2, limit=40, step=6)"
      ],
      "execution_count": null,
      "outputs": []
    },
    {
      "cell_type": "code",
      "metadata": {
        "colab": {
          "base_uri": "https://localhost:8080/",
          "height": 279
        },
        "id": "b1bIdh8N6uFI",
        "outputId": "b3c52dd0-d671-4e32-be65-8efa53434977"
      },
      "source": [
        "# Show graph lda model graph\n",
        "limit=40; start=2; step=6;\n",
        "x = range(start, limit, step)\n",
        "plt.plot(x, coherence_values)\n",
        "plt.xlabel(\"Num Topics\")\n",
        "plt.ylabel(\"Coherence score\")\n",
        "plt.legend((\"coherence_values\"), loc='best')\n",
        "plt.show()"
      ],
      "execution_count": null,
      "outputs": [
        {
          "output_type": "display_data",
          "data": {
            "image/png": "[encoded data removed]",
            "text/plain": [
              "<Figure size 432x288 with 1 Axes>"
            ]
          },
          "metadata": {
            "needs_background": "light"
          }
        }
      ]
    },
    {
      "cell_type": "code",
      "metadata": {
        "colab": {
          "base_uri": "https://localhost:8080/"
        },
        "id": "fWJPJnO76wyR",
        "outputId": "21826b7e-9778-44d8-bc98-25987452b900"
      },
      "source": [
        "#giving coherence values of num of topics\n",
        "for m, cv in zip(x, coherence_values):\n",
        "    print(\"Num Topics =\", m, \" has Coherence Value of\", round(cv, 4))"
      ],
      "execution_count": null,
      "outputs": [
        {
          "output_type": "stream",
          "name": "stdout",
          "text": [
            "Num Topics = 2  has Coherence Value of 0.6653\n",
            "Num Topics = 8  has Coherence Value of 0.5682\n",
            "Num Topics = 14  has Coherence Value of 0.5411\n",
            "Num Topics = 20  has Coherence Value of 0.5392\n",
            "Num Topics = 26  has Coherence Value of 0.541\n",
            "Num Topics = 32  has Coherence Value of 0.5416\n",
            "Num Topics = 38  has Coherence Value of 0.5342\n"
          ]
        }
      ]
    },
    {
      "cell_type": "code",
      "metadata": {
        "id": "jqMPZvmA6zab"
      },
      "source": [
        "lda_model = gensim.models.ldamodel.LdaModel(corpus=corpus,\n",
        "                                           id2word=id2word,\n",
        "                                           num_topics=14, \n",
        "                                           random_state=100,\n",
        "                                           update_every=1,\n",
        "                                           chunksize=100,\n",
        "                                           passes=10,\n",
        "                                           alpha='auto',\n",
        "                                           per_word_topics=True)"
      ],
      "execution_count": null,
      "outputs": []
    },
    {
      "cell_type": "code",
      "metadata": {
        "colab": {
          "base_uri": "https://localhost:8080/"
        },
        "id": "LoimwN-q61kG",
        "outputId": "dee02f54-60ae-4813-cd9e-b36e6396d6c9"
      },
      "source": [
        "optimal_model = model_list[3]\n",
        "model_topics = optimal_model.show_topics(formatted=False)\n",
        "pprint(optimal_model.print_topics(num_words=10))"
      ],
      "execution_count": null,
      "outputs": [
        {
          "output_type": "stream",
          "name": "stdout",
          "text": [
            "[(0,\n",
            "  '0.556*\"engage\" + 0.222*\"interesting\" + 0.111*\"picture\" + 0.056*\"thought\" + '\n",
            "  '0.056*\"piece\" + 0.000*\"certainly\" + 0.000*\"enough\" + 0.000*\"earn\" + '\n",
            "  '0.000*\"conventional\" + 0.000*\"pay\"'),\n",
            " (1,\n",
            "  '0.800*\"film\" + 0.120*\"fairly\" + 0.080*\"funny\" + 0.000*\"conventional\" + '\n",
            "  '0.000*\"picture\" + 0.000*\"enough\" + 0.000*\"earn\" + 0.000*\"interesting\" + '\n",
            "  '0.000*\"certainly\" + 0.000*\"pay\"'),\n",
            " (2,\n",
            "  '0.256*\"conventional\" + 0.256*\"ill\" + 0.256*\"earn\" + 0.205*\"piece\" + '\n",
            "  '0.026*\"interesting\" + 0.000*\"pay\" + 0.000*\"topic\" + 0.000*\"attention\" + '\n",
            "  '0.000*\"enough\" + 0.000*\"tad\"'),\n",
            " (3,\n",
            "  '0.435*\"half\" + 0.435*\"intruder\" + 0.087*\"fairly\" + 0.043*\"question\" + '\n",
            "  '0.000*\"certainly\" + 0.000*\"tad\" + 0.000*\"earn\" + 0.000*\"conventional\" + '\n",
            "  '0.000*\"ill\" + 0.000*\"picture\"'),\n",
            " (4,\n",
            "  '0.323*\"attention\" + 0.323*\"pay\" + 0.323*\"topic\" + 0.032*\"social\" + '\n",
            "  '0.000*\"conventional\" + 0.000*\"underwhelme\" + 0.000*\"enough\" + 0.000*\"earn\" '\n",
            "  '+ 0.000*\"interesting\" + 0.000*\"certainly\"'),\n",
            " (5,\n",
            "  '0.323*\"original\" + 0.323*\"unconventional\" + 0.323*\"overrate\" + '\n",
            "  '0.032*\"piece\" + 0.000*\"enough\" + 0.000*\"conventional\" + 0.000*\"interesting\" '\n",
            "  '+ 0.000*\"ill\" + 0.000*\"topic\" + 0.000*\"earn\"'),\n",
            " (6,\n",
            "  '0.323*\"ecosystem\" + 0.323*\"fragile\" + 0.323*\"comfort\" + 0.032*\"social\" + '\n",
            "  '0.000*\"conventional\" + 0.000*\"certainly\" + 0.000*\"picture\" + 0.000*\"enough\" '\n",
            "  '+ 0.000*\"topic\" + 0.000*\"pay\"'),\n",
            " (7,\n",
            "  '0.750*\"picture\" + 0.250*\"good\" + 0.000*\"ill\" + 0.000*\"enough\" + '\n",
            "  '0.000*\"earn\" + 0.000*\"conventional\" + 0.000*\"certainly\" + '\n",
            "  '0.000*\"interesting\" + 0.000*\"attention\" + 0.000*\"topic\"'),\n",
            " (8,\n",
            "  '0.263*\"intriguing\" + 0.263*\"dark\" + 0.263*\"profound\" + 0.211*\"funny\" + '\n",
            "  '0.000*\"picture\" + 0.000*\"topic\" + 0.000*\"conventional\" + 0.000*\"certainly\" '\n",
            "  '+ 0.000*\"enough\" + 0.000*\"underwhelme\"'),\n",
            " (9,\n",
            "  '0.333*\"make\" + 0.333*\"plan\" + 0.267*\"life\" + 0.033*\"interesting\" + '\n",
            "  '0.033*\"fairly\" + 0.000*\"conventional\" + 0.000*\"enough\" + 0.000*\"earn\" + '\n",
            "  '0.000*\"underwhelme\" + 0.000*\"certainly\"'),\n",
            " (10,\n",
            "  '0.667*\"work\" + 0.300*\"entertaining\" + 0.033*\"ghost\" + 0.000*\"enough\" + '\n",
            "  '0.000*\"earn\" + 0.000*\"conventional\" + 0.000*\"certainly\" + '\n",
            "  '0.000*\"interesting\" + 0.000*\"picture\" + 0.000*\"pay\"'),\n",
            " (11,\n",
            "  '0.778*\"parasite\" + 0.185*\"thought\" + 0.037*\"intelligent\" + 0.000*\"enough\" + '\n",
            "  '0.000*\"earn\" + 0.000*\"conventional\" + 0.000*\"ill\" + 0.000*\"certainly\" + '\n",
            "  '0.000*\"pay\" + 0.000*\"tad\"'),\n",
            " (12,\n",
            "  '0.385*\"tad\" + 0.385*\"underwhelme\" + 0.115*\"fairly\" + 0.077*\"ghost\" + '\n",
            "  '0.038*\"entertaining\" + 0.000*\"conventional\" + 0.000*\"picture\" + '\n",
            "  '0.000*\"enough\" + 0.000*\"earn\" + 0.000*\"interesting\"'),\n",
            " (13,\n",
            "  '0.741*\"story\" + 0.259*\"ghost\" + 0.000*\"picture\" + 0.000*\"enough\" + '\n",
            "  '0.000*\"earn\" + 0.000*\"conventional\" + 0.000*\"certainly\" + '\n",
            "  '0.000*\"interesting\" + 0.000*\"pay\" + 0.000*\"tad\"'),\n",
            " (14,\n",
            "  '0.270*\"aspect\" + 0.270*\"drama\" + 0.243*\"intelligent\" + 0.216*\"social\" + '\n",
            "  '0.000*\"certainly\" + 0.000*\"earn\" + 0.000*\"ill\" + 0.000*\"conventional\" + '\n",
            "  '0.000*\"topic\" + 0.000*\"underwhelme\"'),\n",
            " (15,\n",
            "  '0.667*\"parasite\" + 0.148*\"thought\" + 0.148*\"interesting\" + 0.037*\"totally\" '\n",
            "  '+ 0.000*\"earn\" + 0.000*\"ill\" + 0.000*\"enough\" + 0.000*\"pay\" + 0.000*\"topic\" '\n",
            "  '+ 0.000*\"conventional\"'),\n",
            " (16,\n",
            "  '0.474*\"totally\" + 0.474*\"question\" + 0.053*\"fairly\" + 0.000*\"certainly\" + '\n",
            "  '0.000*\"enough\" + 0.000*\"earn\" + 0.000*\"conventional\" + 0.000*\"interesting\" '\n",
            "  '+ 0.000*\"tad\" + 0.000*\"topic\"'),\n",
            " (17,\n",
            "  '0.312*\"love\" + 0.312*\"tough\" + 0.312*\"viewer\" + 0.062*\"life\" + '\n",
            "  '0.000*\"certainly\" + 0.000*\"ill\" + 0.000*\"enough\" + 0.000*\"earn\" + '\n",
            "  '0.000*\"conventional\" + 0.000*\"piece\"'),\n",
            " (18,\n",
            "  '0.500*\"incredible\" + 0.500*\"unique\" + 0.000*\"certainly\" + '\n",
            "  '0.000*\"underwhelme\" + 0.000*\"enough\" + 0.000*\"earn\" + 0.000*\"conventional\" '\n",
            "  '+ 0.000*\"interesting\" + 0.000*\"pay\" + 0.000*\"tad\"'),\n",
            " (19,\n",
            "  '0.686*\"good\" + 0.286*\"entertain\" + 0.029*\"parasite\" + 0.000*\"conventional\" '\n",
            "  '+ 0.000*\"ill\" + 0.000*\"enough\" + 0.000*\"earn\" + 0.000*\"certainly\" + '\n",
            "  '0.000*\"tad\" + 0.000*\"topic\"')]\n"
          ]
        }
      ]
    },
    {
      "cell_type": "code",
      "metadata": {
        "colab": {
          "base_uri": "https://localhost:8080/",
          "height": 357
        },
        "id": "02RSNZOf64iT",
        "outputId": "9381d7cf-d5a5-4cde-daeb-b893f563a52a"
      },
      "source": [
        "def format_topics_sentences(ldamodel=lda_model, corpus=corpus, texts=data):\n",
        "    # Init output\n",
        "    sent_topics_df = pd.DataFrame()\n",
        "\n",
        "    # Get main topic in each document\n",
        "    for i, row in enumerate(ldamodel[corpus]):\n",
        "        row = sorted(row, key=lambda x: (x[1]), reverse=True)\n",
        "        # Get the Dominant topic, Perc Contribution and Keywords for each document\n",
        "        for j, (topic_num, prop_topic) in enumerate(row):\n",
        "            if j == 0:  # => dominant topic\n",
        "                wp = ldamodel.show_topic(topic_num)\n",
        "                topic_keywords = \", \".join([word for word, prop in wp])\n",
        "                sent_topics_df = sent_topics_df.append(pd.Series([int(topic_num), round(prop_topic,4), topic_keywords]), ignore_index=True)\n",
        "            else:\n",
        "                break\n",
        "    sent_topics_df.columns = ['Dominant_Topic', 'Perc_Contribution', 'Topic_Keywords']\n",
        "\n",
        "    # Add original text to the end of the output\n",
        "    contents = pd.Series(texts)\n",
        "    sent_topics_df = pd.concat([sent_topics_df, contents], axis=1)\n",
        "    return(sent_topics_df)\n",
        "\n",
        "\n",
        "df_topic_sents_keywords = format_topics_sentences(ldamodel=optimal_model, corpus=corpus, texts=data)\n",
        "\n",
        "# Format\n",
        "df_dominant_topic = df_topic_sents_keywords.reset_index()\n",
        "df_dominant_topic.columns = ['Document_No', 'Dominant_Topic', 'Topic_Perc_Contrib', 'Keywords', 'Text']\n",
        "\n",
        "# Show\n",
        "df_dominant_topic.head(10)"
      ],
      "execution_count": null,
      "outputs": [
        {
          "output_type": "execute_result",
          "data": {
            "text/html": [
              "<div>\n",
              "<style scoped>\n",
              "    .dataframe tbody tr th:only-of-type {\n",
              "        vertical-align: middle;\n",
              "    }\n",
              "\n",
              "    .dataframe tbody tr th {\n",
              "        vertical-align: top;\n",
              "    }\n",
              "\n",
              "    .dataframe thead th {\n",
              "        text-align: right;\n",
              "    }\n",
              "</style>\n",
              "<table border=\"1\" class=\"dataframe\">\n",
              "  <thead>\n",
              "    <tr style=\"text-align: right;\">\n",
              "      <th></th>\n",
              "      <th>Document_No</th>\n",
              "      <th>Dominant_Topic</th>\n",
              "      <th>Topic_Perc_Contrib</th>\n",
              "      <th>Keywords</th>\n",
              "      <th>Text</th>\n",
              "    </tr>\n",
              "  </thead>\n",
              "  <tbody>\n",
              "    <tr>\n",
              "      <th>0</th>\n",
              "      <td>0</td>\n",
              "      <td>17.0</td>\n",
              "      <td>0.1017</td>\n",
              "      <td>love, tough, viewer, life, certainly, ill, eno...</td>\n",
              "      <td>I loved the first 90%....but the last might b...</td>\n",
              "    </tr>\n",
              "    <tr>\n",
              "      <th>1</th>\n",
              "      <td>1</td>\n",
              "      <td>10.0</td>\n",
              "      <td>0.0686</td>\n",
              "      <td>work, entertaining, ghost, enough, earn, conve...</td>\n",
              "      <td>Thoroughly entertaining</td>\n",
              "    </tr>\n",
              "    <tr>\n",
              "      <th>2</th>\n",
              "      <td>2</td>\n",
              "      <td>0.0</td>\n",
              "      <td>0.0500</td>\n",
              "      <td>engage, interesting, picture, thought, piece, ...</td>\n",
              "      <td>class warfare</td>\n",
              "    </tr>\n",
              "    <tr>\n",
              "      <th>3</th>\n",
              "      <td>3</td>\n",
              "      <td>16.0</td>\n",
              "      <td>0.0673</td>\n",
              "      <td>totally, question, fairly, certainly, enough, ...</td>\n",
              "      <td>Totally Unique</td>\n",
              "    </tr>\n",
              "    <tr>\n",
              "      <th>4</th>\n",
              "      <td>4</td>\n",
              "      <td>19.0</td>\n",
              "      <td>0.0813</td>\n",
              "      <td>good, entertain, parasite, conventional, ill, ...</td>\n",
              "      <td>Fairly entertaining film, but one of 2019s be...</td>\n",
              "    </tr>\n",
              "    <tr>\n",
              "      <th>5</th>\n",
              "      <td>5</td>\n",
              "      <td>5.0</td>\n",
              "      <td>0.1038</td>\n",
              "      <td>original, unconventional, overrate, piece, eno...</td>\n",
              "      <td>Original, Unconventional and Overrated</td>\n",
              "    </tr>\n",
              "    <tr>\n",
              "      <th>6</th>\n",
              "      <td>6</td>\n",
              "      <td>15.0</td>\n",
              "      <td>0.0599</td>\n",
              "      <td>parasite, thought, interesting, totally, earn,...</td>\n",
              "      <td>Parasite</td>\n",
              "    </tr>\n",
              "    <tr>\n",
              "      <th>7</th>\n",
              "      <td>7</td>\n",
              "      <td>14.0</td>\n",
              "      <td>0.1141</td>\n",
              "      <td>aspect, drama, intelligent, social, certainly,...</td>\n",
              "      <td>Engaging as a drama, with an intelligent soci...</td>\n",
              "    </tr>\n",
              "    <tr>\n",
              "      <th>8</th>\n",
              "      <td>8</td>\n",
              "      <td>13.0</td>\n",
              "      <td>0.0823</td>\n",
              "      <td>story, ghost, picture, enough, earn, conventio...</td>\n",
              "      <td>Ghost Story</td>\n",
              "    </tr>\n",
              "    <tr>\n",
              "      <th>9</th>\n",
              "      <td>9</td>\n",
              "      <td>0.0</td>\n",
              "      <td>0.0500</td>\n",
              "      <td>engage, interesting, picture, thought, piece, ...</td>\n",
              "      <td>Not a leech (?)</td>\n",
              "    </tr>\n",
              "  </tbody>\n",
              "</table>\n",
              "</div>"
            ],
            "text/plain": [
              "   Document_No  ...                                               Text\n",
              "0            0  ...   I loved the first 90%....but the last might b...\n",
              "1            1  ...                           Thoroughly entertaining \n",
              "2            2  ...                                     class warfare \n",
              "3            3  ...                                    Totally Unique \n",
              "4            4  ...   Fairly entertaining film, but one of 2019s be...\n",
              "5            5  ...            Original, Unconventional and Overrated \n",
              "6            6  ...                                          Parasite \n",
              "7            7  ...   Engaging as a drama, with an intelligent soci...\n",
              "8            8  ...                                       Ghost Story \n",
              "9            9  ...                                   Not a leech (?) \n",
              "\n",
              "[10 rows x 5 columns]"
            ]
          },
          "metadata": {},
          "execution_count": 20
        }
      ]
    },
    {
      "cell_type": "code",
      "metadata": {
        "colab": {
          "base_uri": "https://localhost:8080/",
          "height": 203
        },
        "id": "IPpTItm868xM",
        "outputId": "d4812b1b-355b-4afe-e64f-274718955337"
      },
      "source": [
        "sent_topics_sorteddf_mallet = pd.DataFrame()\n",
        "\n",
        "sent_topics_outdf_grpd = df_topic_sents_keywords.groupby('Dominant_Topic')\n",
        "\n",
        "for i, grp in sent_topics_outdf_grpd:\n",
        "    sent_topics_sorteddf_mallet = pd.concat([sent_topics_sorteddf_mallet, \n",
        "                                             grp.sort_values(['Perc_Contribution'], ascending=[0]).head(1)], \n",
        "                                            axis=0)\n",
        "\n",
        "# Reset Index    \n",
        "sent_topics_sorteddf_mallet.reset_index(drop=True, inplace=True)\n",
        "\n",
        "# Format\n",
        "sent_topics_sorteddf_mallet.columns = ['Topic_Num', \"Topic_Perc_Contrib\", \"Keywords\", \"Text\"]\n",
        "\n",
        "# Show\n",
        "sent_topics_sorteddf_mallet.head()"
      ],
      "execution_count": null,
      "outputs": [
        {
          "output_type": "execute_result",
          "data": {
            "text/html": [
              "<div>\n",
              "<style scoped>\n",
              "    .dataframe tbody tr th:only-of-type {\n",
              "        vertical-align: middle;\n",
              "    }\n",
              "\n",
              "    .dataframe tbody tr th {\n",
              "        vertical-align: top;\n",
              "    }\n",
              "\n",
              "    .dataframe thead th {\n",
              "        text-align: right;\n",
              "    }\n",
              "</style>\n",
              "<table border=\"1\" class=\"dataframe\">\n",
              "  <thead>\n",
              "    <tr style=\"text-align: right;\">\n",
              "      <th></th>\n",
              "      <th>Topic_Num</th>\n",
              "      <th>Topic_Perc_Contrib</th>\n",
              "      <th>Keywords</th>\n",
              "      <th>Text</th>\n",
              "    </tr>\n",
              "  </thead>\n",
              "  <tbody>\n",
              "    <tr>\n",
              "      <th>0</th>\n",
              "      <td>0.0</td>\n",
              "      <td>0.0500</td>\n",
              "      <td>engage, interesting, picture, thought, piece, ...</td>\n",
              "      <td>class warfare</td>\n",
              "    </tr>\n",
              "    <tr>\n",
              "      <th>1</th>\n",
              "      <td>1.0</td>\n",
              "      <td>0.0751</td>\n",
              "      <td>film, fairly, funny, conventional, picture, en...</td>\n",
              "      <td>Fairly entertaining film, but one of 2019s be...</td>\n",
              "    </tr>\n",
              "    <tr>\n",
              "      <th>2</th>\n",
              "      <td>2.0</td>\n",
              "      <td>0.1121</td>\n",
              "      <td>conventional, ill, earn, piece, interesting, p...</td>\n",
              "      <td>Parasite was an interesting enough piece of w...</td>\n",
              "    </tr>\n",
              "    <tr>\n",
              "      <th>3</th>\n",
              "      <td>3.0</td>\n",
              "      <td>0.0686</td>\n",
              "      <td>half, intruder, fairly, question, certainly, t...</td>\n",
              "      <td>Intruders</td>\n",
              "    </tr>\n",
              "    <tr>\n",
              "      <th>4</th>\n",
              "      <td>4.0</td>\n",
              "      <td>0.1038</td>\n",
              "      <td>attention, pay, topic, social, conventional, u...</td>\n",
              "      <td>its about time that the Oscars pay attention ...</td>\n",
              "    </tr>\n",
              "  </tbody>\n",
              "</table>\n",
              "</div>"
            ],
            "text/plain": [
              "   Topic_Num  ...                                               Text\n",
              "0        0.0  ...                                     class warfare \n",
              "1        1.0  ...   Fairly entertaining film, but one of 2019s be...\n",
              "2        2.0  ...   Parasite was an interesting enough piece of w...\n",
              "3        3.0  ...                                         Intruders \n",
              "4        4.0  ...   its about time that the Oscars pay attention ...\n",
              "\n",
              "[5 rows x 4 columns]"
            ]
          },
          "metadata": {},
          "execution_count": 21
        }
      ]
    },
    {
      "cell_type": "code",
      "metadata": {
        "colab": {
          "base_uri": "https://localhost:8080/",
          "height": 417
        },
        "id": "HbsXeIFW6_oF",
        "outputId": "8a938437-3e55-4630-c38c-41e618eadcde"
      },
      "source": [
        "# Number of Documents for Each Topic\n",
        "topic_counts = df_topic_sents_keywords['Dominant_Topic'].value_counts()\n",
        "\n",
        "# Percentage of Documents for Each Topic\n",
        "topic_contribution = round(topic_counts/topic_counts.sum(), 4)\n",
        "\n",
        "# Topic Number and Keywords\n",
        "topic_num_keywords = df_topic_sents_keywords[['Dominant_Topic', 'Topic_Keywords']]\n",
        "\n",
        "# Concatenate Column wise\n",
        "df_dominant_topics = pd.concat([topic_num_keywords, topic_counts, topic_contribution], axis=1)\n",
        "\n",
        "# Change Column names\n",
        "df_dominant_topics.columns = ['Dominant_Topic', 'Topic_Keywords', 'Num_Documents', 'Perc_Documents']\n",
        "\n",
        "# Show\n",
        "df_dominant_topics"
      ],
      "execution_count": null,
      "outputs": [
        {
          "output_type": "execute_result",
          "data": {
            "text/html": [
              "<div>\n",
              "<style scoped>\n",
              "    .dataframe tbody tr th:only-of-type {\n",
              "        vertical-align: middle;\n",
              "    }\n",
              "\n",
              "    .dataframe tbody tr th {\n",
              "        vertical-align: top;\n",
              "    }\n",
              "\n",
              "    .dataframe thead th {\n",
              "        text-align: right;\n",
              "    }\n",
              "</style>\n",
              "<table border=\"1\" class=\"dataframe\">\n",
              "  <thead>\n",
              "    <tr style=\"text-align: right;\">\n",
              "      <th></th>\n",
              "      <th>Dominant_Topic</th>\n",
              "      <th>Topic_Keywords</th>\n",
              "      <th>Num_Documents</th>\n",
              "      <th>Perc_Documents</th>\n",
              "    </tr>\n",
              "  </thead>\n",
              "  <tbody>\n",
              "    <tr>\n",
              "      <th>0.0</th>\n",
              "      <td>17.0</td>\n",
              "      <td>love, tough, viewer, life, certainly, ill, eno...</td>\n",
              "      <td>30.0</td>\n",
              "      <td>0.120</td>\n",
              "    </tr>\n",
              "    <tr>\n",
              "      <th>1.0</th>\n",
              "      <td>10.0</td>\n",
              "      <td>work, entertaining, ghost, enough, earn, conve...</td>\n",
              "      <td>11.0</td>\n",
              "      <td>0.044</td>\n",
              "    </tr>\n",
              "    <tr>\n",
              "      <th>2.0</th>\n",
              "      <td>0.0</td>\n",
              "      <td>engage, interesting, picture, thought, piece, ...</td>\n",
              "      <td>10.0</td>\n",
              "      <td>0.040</td>\n",
              "    </tr>\n",
              "    <tr>\n",
              "      <th>3.0</th>\n",
              "      <td>16.0</td>\n",
              "      <td>totally, question, fairly, certainly, enough, ...</td>\n",
              "      <td>10.0</td>\n",
              "      <td>0.040</td>\n",
              "    </tr>\n",
              "    <tr>\n",
              "      <th>4.0</th>\n",
              "      <td>19.0</td>\n",
              "      <td>good, entertain, parasite, conventional, ill, ...</td>\n",
              "      <td>10.0</td>\n",
              "      <td>0.040</td>\n",
              "    </tr>\n",
              "    <tr>\n",
              "      <th>...</th>\n",
              "      <td>...</td>\n",
              "      <td>...</td>\n",
              "      <td>...</td>\n",
              "      <td>...</td>\n",
              "    </tr>\n",
              "    <tr>\n",
              "      <th>245.0</th>\n",
              "      <td>6.0</td>\n",
              "      <td>ecosystem, fragile, comfort, social, conventio...</td>\n",
              "      <td>NaN</td>\n",
              "      <td>NaN</td>\n",
              "    </tr>\n",
              "    <tr>\n",
              "      <th>246.0</th>\n",
              "      <td>3.0</td>\n",
              "      <td>half, intruder, fairly, question, certainly, t...</td>\n",
              "      <td>NaN</td>\n",
              "      <td>NaN</td>\n",
              "    </tr>\n",
              "    <tr>\n",
              "      <th>247.0</th>\n",
              "      <td>1.0</td>\n",
              "      <td>film, fairly, funny, conventional, picture, en...</td>\n",
              "      <td>NaN</td>\n",
              "      <td>NaN</td>\n",
              "    </tr>\n",
              "    <tr>\n",
              "      <th>248.0</th>\n",
              "      <td>0.0</td>\n",
              "      <td>engage, interesting, picture, thought, piece, ...</td>\n",
              "      <td>NaN</td>\n",
              "      <td>NaN</td>\n",
              "    </tr>\n",
              "    <tr>\n",
              "      <th>249.0</th>\n",
              "      <td>8.0</td>\n",
              "      <td>intriguing, dark, profound, funny, picture, to...</td>\n",
              "      <td>NaN</td>\n",
              "      <td>NaN</td>\n",
              "    </tr>\n",
              "  </tbody>\n",
              "</table>\n",
              "<p>250 rows × 4 columns</p>\n",
              "</div>"
            ],
            "text/plain": [
              "       Dominant_Topic  ... Perc_Documents\n",
              "0.0              17.0  ...          0.120\n",
              "1.0              10.0  ...          0.044\n",
              "2.0               0.0  ...          0.040\n",
              "3.0              16.0  ...          0.040\n",
              "4.0              19.0  ...          0.040\n",
              "...               ...  ...            ...\n",
              "245.0             6.0  ...            NaN\n",
              "246.0             3.0  ...            NaN\n",
              "247.0             1.0  ...            NaN\n",
              "248.0             0.0  ...            NaN\n",
              "249.0             8.0  ...            NaN\n",
              "\n",
              "[250 rows x 4 columns]"
            ]
          },
          "metadata": {},
          "execution_count": 22
        }
      ]
    },
    {
      "cell_type": "markdown",
      "metadata": {
        "id": "EwKfja0REg8C"
      },
      "source": [
        "#**(2) (15 points) Generate K topics by using LSA, the number of topics K should be decided by the coherence score, then summarize what are the topics. You may refer the code here:**\n",
        "https://www.datacamp.com/community/tutorials/discovering-hidden-topics-python"
      ]
    },
    {
      "cell_type": "code",
      "metadata": {
        "id": "36FASTJAEhy8"
      },
      "source": [
        "#importing modules\n",
        "import os.path\n",
        "from gensim import corpora\n",
        "from gensim.models import LsiModel\n",
        "from nltk.tokenize import RegexpTokenizer\n",
        "from nltk.corpus import stopwords\n",
        "from nltk.stem.porter import PorterStemmer\n",
        "from gensim.models.coherencemodel import CoherenceModel\n",
        "from gensim.models import LsiModel\n",
        "import matplotlib.pyplot as plt"
      ],
      "execution_count": null,
      "outputs": []
    },
    {
      "cell_type": "markdown",
      "metadata": {
        "id": "t6UZGflPSO7I"
      },
      "source": [
        "#Preprocessing Data"
      ]
    },
    {
      "cell_type": "code",
      "metadata": {
        "colab": {
          "base_uri": "https://localhost:8080/"
        },
        "id": "kgxUbZrkFBWs",
        "outputId": "862c0064-4513-482f-aa77-1822c98a077f"
      },
      "source": [
        "def preprocess_data(doc_set):\n",
        "    \"\"\"\n",
        "    Input  : docuemnt list\n",
        "    Purpose: preprocess text (tokenize, removing stopwords, and stemming)\n",
        "    Output : preprocessed text\n",
        "    \"\"\"\n",
        "    # initialize regex tokenizer\n",
        "    tokenizer = RegexpTokenizer(r'\\w+')\n",
        "    # create English stop words list\n",
        "    en_stop = set(stopwords.words('english'))\n",
        "    # Create p_stemmer of class PorterStemmer\n",
        "    p_stemmer = PorterStemmer()\n",
        "    # list for tokenized documents in loop\n",
        "    texts = []\n",
        "    # loop through document list\n",
        "    for i in doc_set:\n",
        "        # clean and tokenize document string\n",
        "        raw = i.lower()\n",
        "        tokens = tokenizer.tokenize(raw)\n",
        "        # remove stop words from tokens\n",
        "        stopped_tokens = [i for i in tokens if not i in en_stop]\n",
        "        # stem tokens\n",
        "        stemmed_tokens = [p_stemmer.stem(i) for i in stopped_tokens]\n",
        "        # add tokens to list\n",
        "        texts.append(stemmed_tokens)\n",
        "    return texts\n",
        "preprocess_data(data)"
      ],
      "execution_count": null,
      "outputs": [
        {
          "output_type": "execute_result",
          "data": {
            "text/plain": [
              "[['love', 'first', '90', 'last', 'might', 'tough', 'viewer'],\n",
              " ['thoroughli', 'entertain'],\n",
              " ['class', 'warfar'],\n",
              " ['total', 'uniqu'],\n",
              " ['fairli', 'entertain', 'film', 'one', '2019', 'best'],\n",
              " ['origin', 'unconvent', 'overr'],\n",
              " ['parasit'],\n",
              " ['engag', 'drama', 'intellig', 'social', 'aspect'],\n",
              " ['ghost', 'stori'],\n",
              " ['leech'],\n",
              " ['incred'],\n",
              " ['make', 'plan', 'life', 'never', 'work', 'way'],\n",
              " ['time', 'oscar', 'pay', 'attent', 'topic'],\n",
              " ['parasit'],\n",
              " ['parasit'],\n",
              " ['tad', 'underwhelm'],\n",
              " ['korean', 'movi', 'winner', 'oscar', 'best', 'pictur'],\n",
              " ['parasit',\n",
              "  'interest',\n",
              "  'enough',\n",
              "  'piec',\n",
              "  'work',\n",
              "  'probabl',\n",
              "  'earn',\n",
              "  'best',\n",
              "  'pictur',\n",
              "  'oscar',\n",
              "  'certainli',\n",
              "  'convent',\n",
              "  'ill',\n",
              "  'tell'],\n",
              " ['question'],\n",
              " ['thought', 'provok', 'stori'],\n",
              " ['newfound', 'comfort', 'fragil', 'ecosystem', 'masterpiec'],\n",
              " ['intrud'],\n",
              " ['film', 'two', 'halv'],\n",
              " ['flee', 'circu'],\n",
              " ['superb', 'funni', 'dark', 'intrigu', 'profound'],\n",
              " ['love', 'first', '90', 'last', 'might', 'tough', 'viewer'],\n",
              " ['thoroughli', 'entertain'],\n",
              " ['class', 'warfar'],\n",
              " ['total', 'uniqu'],\n",
              " ['fairli', 'entertain', 'film', 'one', '2019', 'best'],\n",
              " ['origin', 'unconvent', 'overr'],\n",
              " ['parasit'],\n",
              " ['engag', 'drama', 'intellig', 'social', 'aspect'],\n",
              " ['ghost', 'stori'],\n",
              " ['leech'],\n",
              " ['incred'],\n",
              " ['make', 'plan', 'life', 'never', 'work', 'way'],\n",
              " ['time', 'oscar', 'pay', 'attent', 'topic'],\n",
              " ['parasit'],\n",
              " ['parasit'],\n",
              " ['tad', 'underwhelm'],\n",
              " ['korean', 'movi', 'winner', 'oscar', 'best', 'pictur'],\n",
              " ['parasit',\n",
              "  'interest',\n",
              "  'enough',\n",
              "  'piec',\n",
              "  'work',\n",
              "  'probabl',\n",
              "  'earn',\n",
              "  'best',\n",
              "  'pictur',\n",
              "  'oscar',\n",
              "  'certainli',\n",
              "  'convent',\n",
              "  'ill',\n",
              "  'tell'],\n",
              " ['question'],\n",
              " ['thought', 'provok', 'stori'],\n",
              " ['newfound', 'comfort', 'fragil', 'ecosystem', 'masterpiec'],\n",
              " ['intrud'],\n",
              " ['film', 'two', 'halv'],\n",
              " ['flee', 'circu'],\n",
              " ['superb', 'funni', 'dark', 'intrigu', 'profound'],\n",
              " ['love', 'first', '90', 'last', 'might', 'tough', 'viewer'],\n",
              " ['thoroughli', 'entertain'],\n",
              " ['class', 'warfar'],\n",
              " ['total', 'uniqu'],\n",
              " ['fairli', 'entertain', 'film', 'one', '2019', 'best'],\n",
              " ['origin', 'unconvent', 'overr'],\n",
              " ['parasit'],\n",
              " ['engag', 'drama', 'intellig', 'social', 'aspect'],\n",
              " ['ghost', 'stori'],\n",
              " ['leech'],\n",
              " ['incred'],\n",
              " ['make', 'plan', 'life', 'never', 'work', 'way'],\n",
              " ['time', 'oscar', 'pay', 'attent', 'topic'],\n",
              " ['parasit'],\n",
              " ['parasit'],\n",
              " ['tad', 'underwhelm'],\n",
              " ['korean', 'movi', 'winner', 'oscar', 'best', 'pictur'],\n",
              " ['parasit',\n",
              "  'interest',\n",
              "  'enough',\n",
              "  'piec',\n",
              "  'work',\n",
              "  'probabl',\n",
              "  'earn',\n",
              "  'best',\n",
              "  'pictur',\n",
              "  'oscar',\n",
              "  'certainli',\n",
              "  'convent',\n",
              "  'ill',\n",
              "  'tell'],\n",
              " ['question'],\n",
              " ['thought', 'provok', 'stori'],\n",
              " ['newfound', 'comfort', 'fragil', 'ecosystem', 'masterpiec'],\n",
              " ['intrud'],\n",
              " ['film', 'two', 'halv'],\n",
              " ['flee', 'circu'],\n",
              " ['superb', 'funni', 'dark', 'intrigu', 'profound'],\n",
              " ['love', 'first', '90', 'last', 'might', 'tough', 'viewer'],\n",
              " ['thoroughli', 'entertain'],\n",
              " ['class', 'warfar'],\n",
              " ['total', 'uniqu'],\n",
              " ['fairli', 'entertain', 'film', 'one', '2019', 'best'],\n",
              " ['origin', 'unconvent', 'overr'],\n",
              " ['parasit'],\n",
              " ['engag', 'drama', 'intellig', 'social', 'aspect'],\n",
              " ['ghost', 'stori'],\n",
              " ['leech'],\n",
              " ['incred'],\n",
              " ['make', 'plan', 'life', 'never', 'work', 'way'],\n",
              " ['time', 'oscar', 'pay', 'attent', 'topic'],\n",
              " ['parasit'],\n",
              " ['parasit'],\n",
              " ['tad', 'underwhelm'],\n",
              " ['korean', 'movi', 'winner', 'oscar', 'best', 'pictur'],\n",
              " ['parasit',\n",
              "  'interest',\n",
              "  'enough',\n",
              "  'piec',\n",
              "  'work',\n",
              "  'probabl',\n",
              "  'earn',\n",
              "  'best',\n",
              "  'pictur',\n",
              "  'oscar',\n",
              "  'certainli',\n",
              "  'convent',\n",
              "  'ill',\n",
              "  'tell'],\n",
              " ['question'],\n",
              " ['thought', 'provok', 'stori'],\n",
              " ['newfound', 'comfort', 'fragil', 'ecosystem', 'masterpiec'],\n",
              " ['intrud'],\n",
              " ['film', 'two', 'halv'],\n",
              " ['flee', 'circu'],\n",
              " ['superb', 'funni', 'dark', 'intrigu', 'profound'],\n",
              " ['love', 'first', '90', 'last', 'might', 'tough', 'viewer'],\n",
              " ['thoroughli', 'entertain'],\n",
              " ['class', 'warfar'],\n",
              " ['total', 'uniqu'],\n",
              " ['fairli', 'entertain', 'film', 'one', '2019', 'best'],\n",
              " ['origin', 'unconvent', 'overr'],\n",
              " ['parasit'],\n",
              " ['engag', 'drama', 'intellig', 'social', 'aspect'],\n",
              " ['ghost', 'stori'],\n",
              " ['leech'],\n",
              " ['incred'],\n",
              " ['make', 'plan', 'life', 'never', 'work', 'way'],\n",
              " ['time', 'oscar', 'pay', 'attent', 'topic'],\n",
              " ['parasit'],\n",
              " ['parasit'],\n",
              " ['tad', 'underwhelm'],\n",
              " ['korean', 'movi', 'winner', 'oscar', 'best', 'pictur'],\n",
              " ['parasit',\n",
              "  'interest',\n",
              "  'enough',\n",
              "  'piec',\n",
              "  'work',\n",
              "  'probabl',\n",
              "  'earn',\n",
              "  'best',\n",
              "  'pictur',\n",
              "  'oscar',\n",
              "  'certainli',\n",
              "  'convent',\n",
              "  'ill',\n",
              "  'tell'],\n",
              " ['question'],\n",
              " ['thought', 'provok', 'stori'],\n",
              " ['newfound', 'comfort', 'fragil', 'ecosystem', 'masterpiec'],\n",
              " ['intrud'],\n",
              " ['film', 'two', 'halv'],\n",
              " ['flee', 'circu'],\n",
              " ['superb', 'funni', 'dark', 'intrigu', 'profound'],\n",
              " ['love', 'first', '90', 'last', 'might', 'tough', 'viewer'],\n",
              " ['thoroughli', 'entertain'],\n",
              " ['class', 'warfar'],\n",
              " ['total', 'uniqu'],\n",
              " ['fairli', 'entertain', 'film', 'one', '2019', 'best'],\n",
              " ['origin', 'unconvent', 'overr'],\n",
              " ['parasit'],\n",
              " ['engag', 'drama', 'intellig', 'social', 'aspect'],\n",
              " ['ghost', 'stori'],\n",
              " ['leech'],\n",
              " ['incred'],\n",
              " ['make', 'plan', 'life', 'never', 'work', 'way'],\n",
              " ['time', 'oscar', 'pay', 'attent', 'topic'],\n",
              " ['parasit'],\n",
              " ['parasit'],\n",
              " ['tad', 'underwhelm'],\n",
              " ['korean', 'movi', 'winner', 'oscar', 'best', 'pictur'],\n",
              " ['parasit',\n",
              "  'interest',\n",
              "  'enough',\n",
              "  'piec',\n",
              "  'work',\n",
              "  'probabl',\n",
              "  'earn',\n",
              "  'best',\n",
              "  'pictur',\n",
              "  'oscar',\n",
              "  'certainli',\n",
              "  'convent',\n",
              "  'ill',\n",
              "  'tell'],\n",
              " ['question'],\n",
              " ['thought', 'provok', 'stori'],\n",
              " ['newfound', 'comfort', 'fragil', 'ecosystem', 'masterpiec'],\n",
              " ['intrud'],\n",
              " ['film', 'two', 'halv'],\n",
              " ['flee', 'circu'],\n",
              " ['superb', 'funni', 'dark', 'intrigu', 'profound'],\n",
              " ['love', 'first', '90', 'last', 'might', 'tough', 'viewer'],\n",
              " ['thoroughli', 'entertain'],\n",
              " ['class', 'warfar'],\n",
              " ['total', 'uniqu'],\n",
              " ['fairli', 'entertain', 'film', 'one', '2019', 'best'],\n",
              " ['origin', 'unconvent', 'overr'],\n",
              " ['parasit'],\n",
              " ['engag', 'drama', 'intellig', 'social', 'aspect'],\n",
              " ['ghost', 'stori'],\n",
              " ['leech'],\n",
              " ['incred'],\n",
              " ['make', 'plan', 'life', 'never', 'work', 'way'],\n",
              " ['time', 'oscar', 'pay', 'attent', 'topic'],\n",
              " ['parasit'],\n",
              " ['parasit'],\n",
              " ['tad', 'underwhelm'],\n",
              " ['korean', 'movi', 'winner', 'oscar', 'best', 'pictur'],\n",
              " ['parasit',\n",
              "  'interest',\n",
              "  'enough',\n",
              "  'piec',\n",
              "  'work',\n",
              "  'probabl',\n",
              "  'earn',\n",
              "  'best',\n",
              "  'pictur',\n",
              "  'oscar',\n",
              "  'certainli',\n",
              "  'convent',\n",
              "  'ill',\n",
              "  'tell'],\n",
              " ['question'],\n",
              " ['thought', 'provok', 'stori'],\n",
              " ['newfound', 'comfort', 'fragil', 'ecosystem', 'masterpiec'],\n",
              " ['intrud'],\n",
              " ['film', 'two', 'halv'],\n",
              " ['flee', 'circu'],\n",
              " ['superb', 'funni', 'dark', 'intrigu', 'profound'],\n",
              " ['love', 'first', '90', 'last', 'might', 'tough', 'viewer'],\n",
              " ['thoroughli', 'entertain'],\n",
              " ['class', 'warfar'],\n",
              " ['total', 'uniqu'],\n",
              " ['fairli', 'entertain', 'film', 'one', '2019', 'best'],\n",
              " ['origin', 'unconvent', 'overr'],\n",
              " ['parasit'],\n",
              " ['engag', 'drama', 'intellig', 'social', 'aspect'],\n",
              " ['ghost', 'stori'],\n",
              " ['leech'],\n",
              " ['incred'],\n",
              " ['make', 'plan', 'life', 'never', 'work', 'way'],\n",
              " ['time', 'oscar', 'pay', 'attent', 'topic'],\n",
              " ['parasit'],\n",
              " ['parasit'],\n",
              " ['tad', 'underwhelm'],\n",
              " ['korean', 'movi', 'winner', 'oscar', 'best', 'pictur'],\n",
              " ['parasit',\n",
              "  'interest',\n",
              "  'enough',\n",
              "  'piec',\n",
              "  'work',\n",
              "  'probabl',\n",
              "  'earn',\n",
              "  'best',\n",
              "  'pictur',\n",
              "  'oscar',\n",
              "  'certainli',\n",
              "  'convent',\n",
              "  'ill',\n",
              "  'tell'],\n",
              " ['question'],\n",
              " ['thought', 'provok', 'stori'],\n",
              " ['newfound', 'comfort', 'fragil', 'ecosystem', 'masterpiec'],\n",
              " ['intrud'],\n",
              " ['film', 'two', 'halv'],\n",
              " ['flee', 'circu'],\n",
              " ['superb', 'funni', 'dark', 'intrigu', 'profound'],\n",
              " ['love', 'first', '90', 'last', 'might', 'tough', 'viewer'],\n",
              " ['thoroughli', 'entertain'],\n",
              " ['class', 'warfar'],\n",
              " ['total', 'uniqu'],\n",
              " ['fairli', 'entertain', 'film', 'one', '2019', 'best'],\n",
              " ['origin', 'unconvent', 'overr'],\n",
              " ['parasit'],\n",
              " ['engag', 'drama', 'intellig', 'social', 'aspect'],\n",
              " ['ghost', 'stori'],\n",
              " ['leech'],\n",
              " ['incred'],\n",
              " ['make', 'plan', 'life', 'never', 'work', 'way'],\n",
              " ['time', 'oscar', 'pay', 'attent', 'topic'],\n",
              " ['parasit'],\n",
              " ['parasit'],\n",
              " ['tad', 'underwhelm'],\n",
              " ['korean', 'movi', 'winner', 'oscar', 'best', 'pictur'],\n",
              " ['parasit',\n",
              "  'interest',\n",
              "  'enough',\n",
              "  'piec',\n",
              "  'work',\n",
              "  'probabl',\n",
              "  'earn',\n",
              "  'best',\n",
              "  'pictur',\n",
              "  'oscar',\n",
              "  'certainli',\n",
              "  'convent',\n",
              "  'ill',\n",
              "  'tell'],\n",
              " ['question'],\n",
              " ['thought', 'provok', 'stori'],\n",
              " ['newfound', 'comfort', 'fragil', 'ecosystem', 'masterpiec'],\n",
              " ['intrud'],\n",
              " ['film', 'two', 'halv'],\n",
              " ['flee', 'circu'],\n",
              " ['superb', 'funni', 'dark', 'intrigu', 'profound'],\n",
              " ['love', 'first', '90', 'last', 'might', 'tough', 'viewer'],\n",
              " ['thoroughli', 'entertain'],\n",
              " ['class', 'warfar'],\n",
              " ['total', 'uniqu'],\n",
              " ['fairli', 'entertain', 'film', 'one', '2019', 'best'],\n",
              " ['origin', 'unconvent', 'overr'],\n",
              " ['parasit'],\n",
              " ['engag', 'drama', 'intellig', 'social', 'aspect'],\n",
              " ['ghost', 'stori'],\n",
              " ['leech'],\n",
              " ['incred'],\n",
              " ['make', 'plan', 'life', 'never', 'work', 'way'],\n",
              " ['time', 'oscar', 'pay', 'attent', 'topic'],\n",
              " ['parasit'],\n",
              " ['parasit'],\n",
              " ['tad', 'underwhelm'],\n",
              " ['korean', 'movi', 'winner', 'oscar', 'best', 'pictur'],\n",
              " ['parasit',\n",
              "  'interest',\n",
              "  'enough',\n",
              "  'piec',\n",
              "  'work',\n",
              "  'probabl',\n",
              "  'earn',\n",
              "  'best',\n",
              "  'pictur',\n",
              "  'oscar',\n",
              "  'certainli',\n",
              "  'convent',\n",
              "  'ill',\n",
              "  'tell'],\n",
              " ['question'],\n",
              " ['thought', 'provok', 'stori'],\n",
              " ['newfound', 'comfort', 'fragil', 'ecosystem', 'masterpiec'],\n",
              " ['intrud'],\n",
              " ['film', 'two', 'halv'],\n",
              " ['flee', 'circu'],\n",
              " ['superb', 'funni', 'dark', 'intrigu', 'profound']]"
            ]
          },
          "metadata": {},
          "execution_count": 24
        }
      ]
    },
    {
      "cell_type": "markdown",
      "metadata": {
        "id": "I0G55FnNSWRD"
      },
      "source": [
        "#Prepare Corpus"
      ]
    },
    {
      "cell_type": "code",
      "metadata": {
        "id": "w3T5GEu0FDun"
      },
      "source": [
        "def prepare_corpus(doc_clean):\n",
        "    \"\"\"\n",
        "    Input  : clean document\n",
        "    Purpose: create term dictionary of our courpus and Converting list of documents (corpus) into Document Term Matrix\n",
        "    Output : term dictionary and Document Term Matrix\n",
        "    \"\"\"\n",
        "    # Creating the term dictionary of our courpus, where every unique term is assigned an index. dictionary = corpora.Dictionary(doc_clean)\n",
        "    dictionary = corpora.Dictionary(doc_clean)\n",
        "    # Converting list of documents (corpus) into Document Term Matrix using dictionary prepared above.\n",
        "    doc_term_matrix = [dictionary.doc2bow(doc) for doc in doc_clean]\n",
        "    # generate LDA model\n",
        "    return dictionary,doc_term_matrix"
      ],
      "execution_count": null,
      "outputs": []
    },
    {
      "cell_type": "markdown",
      "metadata": {
        "id": "SLbv1W8YScmg"
      },
      "source": [
        "#Create an LSA model using Gensim"
      ]
    },
    {
      "cell_type": "code",
      "metadata": {
        "id": "S_hs0m2YFI-c"
      },
      "source": [
        "def create_gensim_lsa_model(doc_clean,number_of_topics,words):\n",
        "    \"\"\"\n",
        "    Input  : clean document, number of topics and number of words associated with each topic\n",
        "    Purpose: create LSA model using gensim\n",
        "    Output : return LSA model\n",
        "    \"\"\"\n",
        "    dictionary,doc_term_matrix=prepare_corpus(doc_clean)\n",
        "    # generate LSA model\n",
        "    lsamodel = LsiModel(doc_term_matrix, num_topics=number_of_topics, id2word = dictionary)  # train model\n",
        "    print(lsamodel.print_topics(num_topics=number_of_topics, num_words=words))\n",
        "    return lsamodel"
      ],
      "execution_count": null,
      "outputs": []
    },
    {
      "cell_type": "markdown",
      "metadata": {
        "id": "Yy6HD0GtSjeY"
      },
      "source": [
        "#Determine the number of topics"
      ]
    },
    {
      "cell_type": "code",
      "metadata": {
        "id": "gl9-gyL5FPUU"
      },
      "source": [
        "def compute_coherence_values(dictionary, doc_term_matrix, doc_clean, stop, start=2, step=3):\n",
        "    coherence_values = []\n",
        "    model_list = []\n",
        "    for num_topics in range(start, stop, step):\n",
        "        # generate LSA model\n",
        "        model = LsiModel(doc_term_matrix, num_topics=20, id2word = dictionary)\n",
        "        model_list.append(model)\n",
        "        coherencemodel = CoherenceModel(model=model, texts=doc_clean, dictionary=dictionary, coherence='c_v')\n",
        "        coherence_values.append(coherencemodel.get_coherence())\n",
        "    return model_list, coherence_values"
      ],
      "execution_count": null,
      "outputs": []
    },
    {
      "cell_type": "code",
      "metadata": {
        "id": "WjN_2u_tFSiL"
      },
      "source": [
        "number_of_topics=7\n",
        "words=10"
      ],
      "execution_count": null,
      "outputs": []
    },
    {
      "cell_type": "code",
      "metadata": {
        "id": "A5ZL1Y-8FVHd"
      },
      "source": [
        "# graph og LSA model\n",
        "def plot_graph(doc_clean,start, stop, step):\n",
        "    dictionary,doc_term_matrix=prepare_corpus(doc_clean)\n",
        "    model_list, coherence_values = compute_coherence_values(dictionary, doc_term_matrix,doc_clean,\n",
        "                                                            stop, start, step)\n",
        "    # Show graph\n",
        "    x = range(start, stop, step)\n",
        "    plt.plot(x, coherence_values)\n",
        "    plt.xlabel(\"Number of Topics\")\n",
        "    plt.ylabel(\"Coherence score\")\n",
        "    plt.legend((\"coherence_values\"), loc='best')\n",
        "    plt.show()"
      ],
      "execution_count": null,
      "outputs": []
    },
    {
      "cell_type": "code",
      "metadata": {
        "id": "tUxajGnWFWNu"
      },
      "source": [
        "clean_text=preprocess_data(data)"
      ],
      "execution_count": null,
      "outputs": []
    },
    {
      "cell_type": "code",
      "metadata": {
        "colab": {
          "base_uri": "https://localhost:8080/",
          "height": 279
        },
        "id": "SF1OZSBaFeud",
        "outputId": "7609c3bf-b938-4268-b75d-2362dcec9985"
      },
      "source": [
        "start,stop,step=2,60,6\n",
        "plot_graph(clean_text,start,stop,step)"
      ],
      "execution_count": null,
      "outputs": [
        {
          "output_type": "display_data",
          "data": {
            "image/png": "[encoded data removed]",
            "text/plain": [
              "<Figure size 432x288 with 1 Axes>"
            ]
          },
          "metadata": {
            "needs_background": "light"
          }
        }
      ]
    },
    {
      "cell_type": "code",
      "metadata": {
        "colab": {
          "base_uri": "https://localhost:8080/"
        },
        "id": "CPJZLuoaFj62",
        "outputId": "f04ab694-1b3f-4878-e7f5-f0a790ae3002"
      },
      "source": [
        "# Print the coherence scores\n",
        "for m, cv in zip(x, coherence_values):\n",
        "    print(\"Num Topics =\", m, \" has Coherence Value of\", round(cv, 4))"
      ],
      "execution_count": null,
      "outputs": [
        {
          "output_type": "stream",
          "name": "stdout",
          "text": [
            "Num Topics = 2  has Coherence Value of 0.6653\n",
            "Num Topics = 8  has Coherence Value of 0.5682\n",
            "Num Topics = 14  has Coherence Value of 0.5411\n",
            "Num Topics = 20  has Coherence Value of 0.5392\n",
            "Num Topics = 26  has Coherence Value of 0.541\n",
            "Num Topics = 32  has Coherence Value of 0.5416\n",
            "Num Topics = 38  has Coherence Value of 0.5342\n"
          ]
        }
      ]
    },
    {
      "cell_type": "code",
      "metadata": {
        "colab": {
          "base_uri": "https://localhost:8080/"
        },
        "id": "hDE46YNBFnGz",
        "outputId": "3f6394ea-c314-47f2-8f63-521375202d94"
      },
      "source": [
        "model=create_gensim_lsa_model(preprocess_data(data),number_of_topics,words)"
      ],
      "execution_count": null,
      "outputs": [
        {
          "output_type": "stream",
          "name": "stdout",
          "text": [
            "[(0, '-0.345*\"best\" + -0.341*\"oscar\" + -0.312*\"pictur\" + -0.288*\"parasit\" + -0.257*\"work\" + -0.233*\"earn\" + -0.233*\"certainli\" + -0.233*\"enough\" + -0.233*\"convent\" + -0.233*\"ill\"'), (1, '0.378*\"90\" + 0.378*\"tough\" + 0.378*\"might\" + 0.378*\"first\" + 0.378*\"viewer\" + 0.378*\"last\" + 0.378*\"love\" + 0.000*\"best\" + 0.000*\"film\" + 0.000*\"entertain\"'), (2, '-0.390*\"film\" + -0.372*\"entertain\" + -0.370*\"best\" + -0.307*\"fairli\" + -0.307*\"2019\" + -0.307*\"one\" + 0.199*\"work\" + 0.147*\"parasit\" + -0.145*\"winner\" + -0.145*\"korean\"'), (3, '-0.347*\"way\" + -0.347*\"plan\" + -0.347*\"life\" + -0.347*\"make\" + -0.347*\"never\" + -0.331*\"work\" + -0.211*\"film\" + 0.206*\"oscar\" + -0.197*\"entertain\" + -0.157*\"2019\"'), (4, '0.392*\"oscar\" + 0.276*\"attent\" + 0.276*\"topic\" + 0.276*\"time\" + 0.276*\"pay\" + -0.235*\"parasit\" + 0.221*\"movi\" + 0.221*\"winner\" + 0.221*\"korean\" + 0.181*\"make\"'), (5, '-0.300*\"drama\" + -0.300*\"intellig\" + -0.300*\"engag\" + -0.300*\"aspect\" + -0.300*\"social\" + 0.286*\"superb\" + 0.286*\"intrigu\" + 0.286*\"profound\" + 0.286*\"dark\" + 0.286*\"funni\"'), (6, '-0.360*\"fragil\" + -0.360*\"comfort\" + -0.360*\"newfound\" + -0.360*\"masterpiec\" + -0.360*\"ecosystem\" + 0.261*\"profound\" + 0.261*\"funni\" + 0.261*\"superb\" + 0.261*\"dark\" + 0.261*\"intrigu\"')]\n"
          ]
        }
      ]
    },
    {
      "cell_type": "markdown",
      "metadata": {
        "id": "R0qNAvMCFwZV"
      },
      "source": [
        "(3) (10 points) Compare the results generated by the two topic modeling algorithms, which one is better? You should explain the reasons in details."
      ]
    },
    {
      "cell_type": "markdown",
      "metadata": {
        "id": "gS2qEH5YFyTi"
      },
      "source": [
        "# Write your answer here (no code needed for this question)\n",
        "The interpretaion of the topic modelling can be used for testing of topic modelling. In which to attain various types of topic models we use various types of methods which are Latent Semantic Analysis (LSA) and Latent Dirichlet Allocation (LDA) are  two methods of LDA (Leadership Development Agency).\n",
        "\n",
        "In this model the dictionery and corpus are the important inputs where each word in the text is given an unique id by using genism module\n",
        "\n",
        "The module also comprises of many other topic in addition two this key inputs(i.e. dictionery and corpus)\n",
        "By testing with a limited number of topics  and compare results by using the LDA visualization tool pyLDAvis.\n",
        "\n",
        "The topic coherence is knows as the popular strategies for estimating number of topics. By constructing a number of LDA models with varied numbers of topics (k) and through selecting the one with the highest coherence value. Choosing a ‘k' that denotes the end of a rapid increase in subject coherence normally yields topics that are relevant and comprehensible.\n",
        "\n",
        "In the plot it shows if coherence decreases then number of topic decreases and vice versa\n",
        "\n",
        "At the score of 10 the optimal topics are observed, also LDA algorithm has a coherence value of 0.62\n",
        "\n",
        "LSA (Local Self-Assessment) is used for noise reduction and diamension reduction technique\n",
        "\n",
        "In topic modeling to calucluate the K(number of topics) we have to use\n",
        "topic coherence test\n",
        "\n",
        "A topic model which consist of high coherence score will be considered\n",
        "\n",
        "The optimum coherence score is recorded as 0.52 with topic at 6. For the plot, i.e., coherence value and number of topics using LSA algorithm, the optimum coherence score is observed at 0.52 with topic at 6.\n",
        "\n",
        "As a consequence of the study, LDA outperforms LSA.\n"
      ]
    }
  ]
}